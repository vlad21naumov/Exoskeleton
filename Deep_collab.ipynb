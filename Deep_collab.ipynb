{
 "cells": [
  {
   "cell_type": "code",
   "execution_count": 1,
   "metadata": {
    "executionInfo": {
     "elapsed": 4124,
     "status": "ok",
     "timestamp": 1660914150772,
     "user": {
      "displayName": "856 Наумов Владислав Олегович",
      "userId": "16841772269897567801"
     },
     "user_tz": -180
    },
    "id": "vAfJK7rRfFI-"
   },
   "outputs": [],
   "source": [
    "import numpy as np\n",
    "import pandas as pd\n",
    "# from tqdm import tqdm_notebook\n",
    "import tqdm\n",
    "from sklearn.model_selection import train_test_split\n",
    "\n",
    "import torch\n",
    "import time\n",
    "import torch.nn as nn\n",
    "import torch.nn.functional as F\n",
    "from torch.utils.data import Dataset, DataLoader, TensorDataset\n",
    "from matplotlib import pyplot as plt\n",
    "import librosa\n",
    "import librosa.display"
   ]
  },
  {
   "cell_type": "code",
   "execution_count": 2,
   "metadata": {
    "colab": {
     "base_uri": "https://localhost:8080/"
    },
    "executionInfo": {
     "elapsed": 15407,
     "status": "ok",
     "timestamp": 1660914172889,
     "user": {
      "displayName": "856 Наумов Владислав Олегович",
      "userId": "16841772269897567801"
     },
     "user_tz": -180
    },
    "id": "r8hz02rKI7Cb",
    "outputId": "5b01b623-0303-44bc-9641-c18e1a94db65"
   },
   "outputs": [
    {
     "name": "stdout",
     "output_type": "stream",
     "text": [
      "Mounted at /content/drive\n"
     ]
    }
   ],
   "source": [
    "# from google.colab import drive\n",
    "# drive.mount('/content/drive')"
   ]
  },
  {
   "cell_type": "code",
   "execution_count": 3,
   "metadata": {
    "executionInfo": {
     "elapsed": 650,
     "status": "ok",
     "timestamp": 1660914175022,
     "user": {
      "displayName": "856 Наумов Владислав Олегович",
      "userId": "16841772269897567801"
     },
     "user_tz": -180
    },
    "id": "Tu6t31ANfUoR"
   },
   "outputs": [],
   "source": [
    "col_names = ['time', 'emg_1', 'emg_2', 'emg_3', 'emg_4', 'emg_5', 'emg_6', 'pot_1', 'pot_2', 'pot_3']\n",
    "data = pd.read_csv('/content/drive/MyDrive/Экзоскелет/G_free_random.csv', sep=';', header=None, names=col_names)"
   ]
  },
  {
   "cell_type": "code",
   "execution_count": 4,
   "metadata": {
    "colab": {
     "base_uri": "https://localhost:8080/",
     "height": 424
    },
    "executionInfo": {
     "elapsed": 232,
     "status": "ok",
     "timestamp": 1660914179054,
     "user": {
      "displayName": "856 Наумов Владислав Олегович",
      "userId": "16841772269897567801"
     },
     "user_tz": -180
    },
    "id": "fSYzovNgfWaI",
    "outputId": "60ee0bea-7b09-4641-a739-1b80d036625f"
   },
   "outputs": [
    {
     "data": {
      "text/html": [
       "\n",
       "  <div id=\"df-3917dbcd-a178-4ed2-9c00-aa972af1ac3b\">\n",
       "    <div class=\"colab-df-container\">\n",
       "      <div>\n",
       "<style scoped>\n",
       "    .dataframe tbody tr th:only-of-type {\n",
       "        vertical-align: middle;\n",
       "    }\n",
       "\n",
       "    .dataframe tbody tr th {\n",
       "        vertical-align: top;\n",
       "    }\n",
       "\n",
       "    .dataframe thead th {\n",
       "        text-align: right;\n",
       "    }\n",
       "</style>\n",
       "<table border=\"1\" class=\"dataframe\">\n",
       "  <thead>\n",
       "    <tr style=\"text-align: right;\">\n",
       "      <th></th>\n",
       "      <th>time</th>\n",
       "      <th>emg_1</th>\n",
       "      <th>emg_2</th>\n",
       "      <th>emg_3</th>\n",
       "      <th>emg_4</th>\n",
       "      <th>emg_5</th>\n",
       "      <th>emg_6</th>\n",
       "      <th>pot_1</th>\n",
       "      <th>pot_2</th>\n",
       "      <th>pot_3</th>\n",
       "    </tr>\n",
       "  </thead>\n",
       "  <tbody>\n",
       "    <tr>\n",
       "      <th>0</th>\n",
       "      <td>0.002</td>\n",
       "      <td>38.690767</td>\n",
       "      <td>1444.4553</td>\n",
       "      <td>1444.4553</td>\n",
       "      <td>1444.4553</td>\n",
       "      <td>1444.455300</td>\n",
       "      <td>412.701514</td>\n",
       "      <td>232</td>\n",
       "      <td>222</td>\n",
       "      <td>136</td>\n",
       "    </tr>\n",
       "    <tr>\n",
       "      <th>1</th>\n",
       "      <td>0.004</td>\n",
       "      <td>1650.806058</td>\n",
       "      <td>1444.4553</td>\n",
       "      <td>1444.4553</td>\n",
       "      <td>1444.4553</td>\n",
       "      <td>1444.455300</td>\n",
       "      <td>412.701514</td>\n",
       "      <td>232</td>\n",
       "      <td>222</td>\n",
       "      <td>136</td>\n",
       "    </tr>\n",
       "    <tr>\n",
       "      <th>2</th>\n",
       "      <td>0.006</td>\n",
       "      <td>1650.806058</td>\n",
       "      <td>1444.4553</td>\n",
       "      <td>1444.4553</td>\n",
       "      <td>1444.4553</td>\n",
       "      <td>1444.455300</td>\n",
       "      <td>412.701514</td>\n",
       "      <td>232</td>\n",
       "      <td>222</td>\n",
       "      <td>137</td>\n",
       "    </tr>\n",
       "    <tr>\n",
       "      <th>3</th>\n",
       "      <td>0.008</td>\n",
       "      <td>1650.806058</td>\n",
       "      <td>1444.4553</td>\n",
       "      <td>1444.4553</td>\n",
       "      <td>1444.4553</td>\n",
       "      <td>1444.455300</td>\n",
       "      <td>412.701514</td>\n",
       "      <td>232</td>\n",
       "      <td>221</td>\n",
       "      <td>136</td>\n",
       "    </tr>\n",
       "    <tr>\n",
       "      <th>4</th>\n",
       "      <td>0.010</td>\n",
       "      <td>1650.806058</td>\n",
       "      <td>1444.4553</td>\n",
       "      <td>1444.4553</td>\n",
       "      <td>1444.4553</td>\n",
       "      <td>1444.455300</td>\n",
       "      <td>412.701514</td>\n",
       "      <td>232</td>\n",
       "      <td>221</td>\n",
       "      <td>136</td>\n",
       "    </tr>\n",
       "    <tr>\n",
       "      <th>...</th>\n",
       "      <td>...</td>\n",
       "      <td>...</td>\n",
       "      <td>...</td>\n",
       "      <td>...</td>\n",
       "      <td>...</td>\n",
       "      <td>...</td>\n",
       "      <td>...</td>\n",
       "      <td>...</td>\n",
       "      <td>...</td>\n",
       "      <td>...</td>\n",
       "    </tr>\n",
       "    <tr>\n",
       "      <th>134459</th>\n",
       "      <td>268.920</td>\n",
       "      <td>1444.455300</td>\n",
       "      <td>1444.4553</td>\n",
       "      <td>1444.4553</td>\n",
       "      <td>1444.4553</td>\n",
       "      <td>1650.806058</td>\n",
       "      <td>412.701514</td>\n",
       "      <td>218</td>\n",
       "      <td>211</td>\n",
       "      <td>154</td>\n",
       "    </tr>\n",
       "    <tr>\n",
       "      <th>134460</th>\n",
       "      <td>268.922</td>\n",
       "      <td>1444.455300</td>\n",
       "      <td>1444.4553</td>\n",
       "      <td>1444.4553</td>\n",
       "      <td>1444.4553</td>\n",
       "      <td>1444.455300</td>\n",
       "      <td>412.701514</td>\n",
       "      <td>218</td>\n",
       "      <td>211</td>\n",
       "      <td>155</td>\n",
       "    </tr>\n",
       "    <tr>\n",
       "      <th>134461</th>\n",
       "      <td>268.924</td>\n",
       "      <td>1444.455300</td>\n",
       "      <td>1444.4553</td>\n",
       "      <td>1444.4553</td>\n",
       "      <td>1444.4553</td>\n",
       "      <td>1444.455300</td>\n",
       "      <td>412.701514</td>\n",
       "      <td>219</td>\n",
       "      <td>211</td>\n",
       "      <td>155</td>\n",
       "    </tr>\n",
       "    <tr>\n",
       "      <th>134462</th>\n",
       "      <td>268.926</td>\n",
       "      <td>1444.455300</td>\n",
       "      <td>1444.4553</td>\n",
       "      <td>1444.4553</td>\n",
       "      <td>1444.4553</td>\n",
       "      <td>1444.455300</td>\n",
       "      <td>412.701514</td>\n",
       "      <td>219</td>\n",
       "      <td>211</td>\n",
       "      <td>155</td>\n",
       "    </tr>\n",
       "    <tr>\n",
       "      <th>134463</th>\n",
       "      <td>268.928</td>\n",
       "      <td>1444.455300</td>\n",
       "      <td>1444.4553</td>\n",
       "      <td>1444.4553</td>\n",
       "      <td>1444.4553</td>\n",
       "      <td>1444.455300</td>\n",
       "      <td>412.701514</td>\n",
       "      <td>219</td>\n",
       "      <td>211</td>\n",
       "      <td>155</td>\n",
       "    </tr>\n",
       "  </tbody>\n",
       "</table>\n",
       "<p>134464 rows × 10 columns</p>\n",
       "</div>\n",
       "      <button class=\"colab-df-convert\" onclick=\"convertToInteractive('df-3917dbcd-a178-4ed2-9c00-aa972af1ac3b')\"\n",
       "              title=\"Convert this dataframe to an interactive table.\"\n",
       "              style=\"display:none;\">\n",
       "        \n",
       "  <svg xmlns=\"http://www.w3.org/2000/svg\" height=\"24px\"viewBox=\"0 0 24 24\"\n",
       "       width=\"24px\">\n",
       "    <path d=\"M0 0h24v24H0V0z\" fill=\"none\"/>\n",
       "    <path d=\"M18.56 5.44l.94 2.06.94-2.06 2.06-.94-2.06-.94-.94-2.06-.94 2.06-2.06.94zm-11 1L8.5 8.5l.94-2.06 2.06-.94-2.06-.94L8.5 2.5l-.94 2.06-2.06.94zm10 10l.94 2.06.94-2.06 2.06-.94-2.06-.94-.94-2.06-.94 2.06-2.06.94z\"/><path d=\"M17.41 7.96l-1.37-1.37c-.4-.4-.92-.59-1.43-.59-.52 0-1.04.2-1.43.59L10.3 9.45l-7.72 7.72c-.78.78-.78 2.05 0 2.83L4 21.41c.39.39.9.59 1.41.59.51 0 1.02-.2 1.41-.59l7.78-7.78 2.81-2.81c.8-.78.8-2.07 0-2.86zM5.41 20L4 18.59l7.72-7.72 1.47 1.35L5.41 20z\"/>\n",
       "  </svg>\n",
       "      </button>\n",
       "      \n",
       "  <style>\n",
       "    .colab-df-container {\n",
       "      display:flex;\n",
       "      flex-wrap:wrap;\n",
       "      gap: 12px;\n",
       "    }\n",
       "\n",
       "    .colab-df-convert {\n",
       "      background-color: #E8F0FE;\n",
       "      border: none;\n",
       "      border-radius: 50%;\n",
       "      cursor: pointer;\n",
       "      display: none;\n",
       "      fill: #1967D2;\n",
       "      height: 32px;\n",
       "      padding: 0 0 0 0;\n",
       "      width: 32px;\n",
       "    }\n",
       "\n",
       "    .colab-df-convert:hover {\n",
       "      background-color: #E2EBFA;\n",
       "      box-shadow: 0px 1px 2px rgba(60, 64, 67, 0.3), 0px 1px 3px 1px rgba(60, 64, 67, 0.15);\n",
       "      fill: #174EA6;\n",
       "    }\n",
       "\n",
       "    [theme=dark] .colab-df-convert {\n",
       "      background-color: #3B4455;\n",
       "      fill: #D2E3FC;\n",
       "    }\n",
       "\n",
       "    [theme=dark] .colab-df-convert:hover {\n",
       "      background-color: #434B5C;\n",
       "      box-shadow: 0px 1px 3px 1px rgba(0, 0, 0, 0.15);\n",
       "      filter: drop-shadow(0px 1px 2px rgba(0, 0, 0, 0.3));\n",
       "      fill: #FFFFFF;\n",
       "    }\n",
       "  </style>\n",
       "\n",
       "      <script>\n",
       "        const buttonEl =\n",
       "          document.querySelector('#df-3917dbcd-a178-4ed2-9c00-aa972af1ac3b button.colab-df-convert');\n",
       "        buttonEl.style.display =\n",
       "          google.colab.kernel.accessAllowed ? 'block' : 'none';\n",
       "\n",
       "        async function convertToInteractive(key) {\n",
       "          const element = document.querySelector('#df-3917dbcd-a178-4ed2-9c00-aa972af1ac3b');\n",
       "          const dataTable =\n",
       "            await google.colab.kernel.invokeFunction('convertToInteractive',\n",
       "                                                     [key], {});\n",
       "          if (!dataTable) return;\n",
       "\n",
       "          const docLinkHtml = 'Like what you see? Visit the ' +\n",
       "            '<a target=\"_blank\" href=https://colab.research.google.com/notebooks/data_table.ipynb>data table notebook</a>'\n",
       "            + ' to learn more about interactive tables.';\n",
       "          element.innerHTML = '';\n",
       "          dataTable['output_type'] = 'display_data';\n",
       "          await google.colab.output.renderOutput(dataTable, element);\n",
       "          const docLink = document.createElement('div');\n",
       "          docLink.innerHTML = docLinkHtml;\n",
       "          element.appendChild(docLink);\n",
       "        }\n",
       "      </script>\n",
       "    </div>\n",
       "  </div>\n",
       "  "
      ],
      "text/plain": [
       "           time        emg_1      emg_2      emg_3      emg_4        emg_5  \\\n",
       "0         0.002    38.690767  1444.4553  1444.4553  1444.4553  1444.455300   \n",
       "1         0.004  1650.806058  1444.4553  1444.4553  1444.4553  1444.455300   \n",
       "2         0.006  1650.806058  1444.4553  1444.4553  1444.4553  1444.455300   \n",
       "3         0.008  1650.806058  1444.4553  1444.4553  1444.4553  1444.455300   \n",
       "4         0.010  1650.806058  1444.4553  1444.4553  1444.4553  1444.455300   \n",
       "...         ...          ...        ...        ...        ...          ...   \n",
       "134459  268.920  1444.455300  1444.4553  1444.4553  1444.4553  1650.806058   \n",
       "134460  268.922  1444.455300  1444.4553  1444.4553  1444.4553  1444.455300   \n",
       "134461  268.924  1444.455300  1444.4553  1444.4553  1444.4553  1444.455300   \n",
       "134462  268.926  1444.455300  1444.4553  1444.4553  1444.4553  1444.455300   \n",
       "134463  268.928  1444.455300  1444.4553  1444.4553  1444.4553  1444.455300   \n",
       "\n",
       "             emg_6  pot_1  pot_2  pot_3  \n",
       "0       412.701514    232    222    136  \n",
       "1       412.701514    232    222    136  \n",
       "2       412.701514    232    222    137  \n",
       "3       412.701514    232    221    136  \n",
       "4       412.701514    232    221    136  \n",
       "...            ...    ...    ...    ...  \n",
       "134459  412.701514    218    211    154  \n",
       "134460  412.701514    218    211    155  \n",
       "134461  412.701514    219    211    155  \n",
       "134462  412.701514    219    211    155  \n",
       "134463  412.701514    219    211    155  \n",
       "\n",
       "[134464 rows x 10 columns]"
      ]
     },
     "execution_count": 4,
     "metadata": {},
     "output_type": "execute_result"
    }
   ],
   "source": [
    "data"
   ]
  },
  {
   "cell_type": "code",
   "execution_count": 5,
   "metadata": {
    "executionInfo": {
     "elapsed": 260,
     "status": "ok",
     "timestamp": 1660914181011,
     "user": {
      "displayName": "856 Наумов Владислав Олегович",
      "userId": "16841772269897567801"
     },
     "user_tz": -180
    },
    "id": "99j5_c8PfYRu"
   },
   "outputs": [],
   "source": [
    "data[['pot_1', 'pot_2', 'pot_3']] = data[['pot_1', 'pot_2', 'pot_3']].astype(float)"
   ]
  },
  {
   "cell_type": "code",
   "execution_count": 6,
   "metadata": {
    "colab": {
     "base_uri": "https://localhost:8080/"
    },
    "executionInfo": {
     "elapsed": 5,
     "status": "ok",
     "timestamp": 1660914182035,
     "user": {
      "displayName": "856 Наумов Владислав Олегович",
      "userId": "16841772269897567801"
     },
     "user_tz": -180
    },
    "id": "34vyd4JsfazH",
    "outputId": "950353c0-01a0-4b6d-fefd-c6d9be5cc352"
   },
   "outputs": [
    {
     "data": {
      "text/plain": [
       "time     float64\n",
       "emg_1    float64\n",
       "emg_2    float64\n",
       "emg_3    float64\n",
       "emg_4    float64\n",
       "emg_5    float64\n",
       "emg_6    float64\n",
       "pot_1    float64\n",
       "pot_2    float64\n",
       "pot_3    float64\n",
       "dtype: object"
      ]
     },
     "execution_count": 6,
     "metadata": {},
     "output_type": "execute_result"
    }
   ],
   "source": [
    "data.dtypes"
   ]
  },
  {
   "cell_type": "code",
   "execution_count": 7,
   "metadata": {
    "colab": {
     "base_uri": "https://localhost:8080/",
     "height": 424
    },
    "executionInfo": {
     "elapsed": 250,
     "status": "ok",
     "timestamp": 1660914183462,
     "user": {
      "displayName": "856 Наумов Владислав Олегович",
      "userId": "16841772269897567801"
     },
     "user_tz": -180
    },
    "id": "webodDxRffYF",
    "outputId": "17862636-a2a6-4d3d-ce1a-a7076b960793"
   },
   "outputs": [
    {
     "data": {
      "text/html": [
       "\n",
       "  <div id=\"df-9873aac9-3e20-4bf6-86ac-f7abb0515b19\">\n",
       "    <div class=\"colab-df-container\">\n",
       "      <div>\n",
       "<style scoped>\n",
       "    .dataframe tbody tr th:only-of-type {\n",
       "        vertical-align: middle;\n",
       "    }\n",
       "\n",
       "    .dataframe tbody tr th {\n",
       "        vertical-align: top;\n",
       "    }\n",
       "\n",
       "    .dataframe thead th {\n",
       "        text-align: right;\n",
       "    }\n",
       "</style>\n",
       "<table border=\"1\" class=\"dataframe\">\n",
       "  <thead>\n",
       "    <tr style=\"text-align: right;\">\n",
       "      <th></th>\n",
       "      <th>emg_1</th>\n",
       "      <th>emg_2</th>\n",
       "      <th>emg_3</th>\n",
       "      <th>emg_4</th>\n",
       "      <th>pot_1</th>\n",
       "      <th>pot_2</th>\n",
       "      <th>pot_3</th>\n",
       "    </tr>\n",
       "  </thead>\n",
       "  <tbody>\n",
       "    <tr>\n",
       "      <th>0</th>\n",
       "      <td>38.690767</td>\n",
       "      <td>1444.4553</td>\n",
       "      <td>1444.4553</td>\n",
       "      <td>1444.4553</td>\n",
       "      <td>232.0</td>\n",
       "      <td>222.0</td>\n",
       "      <td>136.0</td>\n",
       "    </tr>\n",
       "    <tr>\n",
       "      <th>1</th>\n",
       "      <td>1650.806058</td>\n",
       "      <td>1444.4553</td>\n",
       "      <td>1444.4553</td>\n",
       "      <td>1444.4553</td>\n",
       "      <td>232.0</td>\n",
       "      <td>222.0</td>\n",
       "      <td>136.0</td>\n",
       "    </tr>\n",
       "    <tr>\n",
       "      <th>2</th>\n",
       "      <td>1650.806058</td>\n",
       "      <td>1444.4553</td>\n",
       "      <td>1444.4553</td>\n",
       "      <td>1444.4553</td>\n",
       "      <td>232.0</td>\n",
       "      <td>222.0</td>\n",
       "      <td>137.0</td>\n",
       "    </tr>\n",
       "    <tr>\n",
       "      <th>3</th>\n",
       "      <td>1650.806058</td>\n",
       "      <td>1444.4553</td>\n",
       "      <td>1444.4553</td>\n",
       "      <td>1444.4553</td>\n",
       "      <td>232.0</td>\n",
       "      <td>221.0</td>\n",
       "      <td>136.0</td>\n",
       "    </tr>\n",
       "    <tr>\n",
       "      <th>4</th>\n",
       "      <td>1650.806058</td>\n",
       "      <td>1444.4553</td>\n",
       "      <td>1444.4553</td>\n",
       "      <td>1444.4553</td>\n",
       "      <td>232.0</td>\n",
       "      <td>221.0</td>\n",
       "      <td>136.0</td>\n",
       "    </tr>\n",
       "    <tr>\n",
       "      <th>...</th>\n",
       "      <td>...</td>\n",
       "      <td>...</td>\n",
       "      <td>...</td>\n",
       "      <td>...</td>\n",
       "      <td>...</td>\n",
       "      <td>...</td>\n",
       "      <td>...</td>\n",
       "    </tr>\n",
       "    <tr>\n",
       "      <th>134459</th>\n",
       "      <td>1444.455300</td>\n",
       "      <td>1444.4553</td>\n",
       "      <td>1444.4553</td>\n",
       "      <td>1444.4553</td>\n",
       "      <td>218.0</td>\n",
       "      <td>211.0</td>\n",
       "      <td>154.0</td>\n",
       "    </tr>\n",
       "    <tr>\n",
       "      <th>134460</th>\n",
       "      <td>1444.455300</td>\n",
       "      <td>1444.4553</td>\n",
       "      <td>1444.4553</td>\n",
       "      <td>1444.4553</td>\n",
       "      <td>218.0</td>\n",
       "      <td>211.0</td>\n",
       "      <td>155.0</td>\n",
       "    </tr>\n",
       "    <tr>\n",
       "      <th>134461</th>\n",
       "      <td>1444.455300</td>\n",
       "      <td>1444.4553</td>\n",
       "      <td>1444.4553</td>\n",
       "      <td>1444.4553</td>\n",
       "      <td>219.0</td>\n",
       "      <td>211.0</td>\n",
       "      <td>155.0</td>\n",
       "    </tr>\n",
       "    <tr>\n",
       "      <th>134462</th>\n",
       "      <td>1444.455300</td>\n",
       "      <td>1444.4553</td>\n",
       "      <td>1444.4553</td>\n",
       "      <td>1444.4553</td>\n",
       "      <td>219.0</td>\n",
       "      <td>211.0</td>\n",
       "      <td>155.0</td>\n",
       "    </tr>\n",
       "    <tr>\n",
       "      <th>134463</th>\n",
       "      <td>1444.455300</td>\n",
       "      <td>1444.4553</td>\n",
       "      <td>1444.4553</td>\n",
       "      <td>1444.4553</td>\n",
       "      <td>219.0</td>\n",
       "      <td>211.0</td>\n",
       "      <td>155.0</td>\n",
       "    </tr>\n",
       "  </tbody>\n",
       "</table>\n",
       "<p>134464 rows × 7 columns</p>\n",
       "</div>\n",
       "      <button class=\"colab-df-convert\" onclick=\"convertToInteractive('df-9873aac9-3e20-4bf6-86ac-f7abb0515b19')\"\n",
       "              title=\"Convert this dataframe to an interactive table.\"\n",
       "              style=\"display:none;\">\n",
       "        \n",
       "  <svg xmlns=\"http://www.w3.org/2000/svg\" height=\"24px\"viewBox=\"0 0 24 24\"\n",
       "       width=\"24px\">\n",
       "    <path d=\"M0 0h24v24H0V0z\" fill=\"none\"/>\n",
       "    <path d=\"M18.56 5.44l.94 2.06.94-2.06 2.06-.94-2.06-.94-.94-2.06-.94 2.06-2.06.94zm-11 1L8.5 8.5l.94-2.06 2.06-.94-2.06-.94L8.5 2.5l-.94 2.06-2.06.94zm10 10l.94 2.06.94-2.06 2.06-.94-2.06-.94-.94-2.06-.94 2.06-2.06.94z\"/><path d=\"M17.41 7.96l-1.37-1.37c-.4-.4-.92-.59-1.43-.59-.52 0-1.04.2-1.43.59L10.3 9.45l-7.72 7.72c-.78.78-.78 2.05 0 2.83L4 21.41c.39.39.9.59 1.41.59.51 0 1.02-.2 1.41-.59l7.78-7.78 2.81-2.81c.8-.78.8-2.07 0-2.86zM5.41 20L4 18.59l7.72-7.72 1.47 1.35L5.41 20z\"/>\n",
       "  </svg>\n",
       "      </button>\n",
       "      \n",
       "  <style>\n",
       "    .colab-df-container {\n",
       "      display:flex;\n",
       "      flex-wrap:wrap;\n",
       "      gap: 12px;\n",
       "    }\n",
       "\n",
       "    .colab-df-convert {\n",
       "      background-color: #E8F0FE;\n",
       "      border: none;\n",
       "      border-radius: 50%;\n",
       "      cursor: pointer;\n",
       "      display: none;\n",
       "      fill: #1967D2;\n",
       "      height: 32px;\n",
       "      padding: 0 0 0 0;\n",
       "      width: 32px;\n",
       "    }\n",
       "\n",
       "    .colab-df-convert:hover {\n",
       "      background-color: #E2EBFA;\n",
       "      box-shadow: 0px 1px 2px rgba(60, 64, 67, 0.3), 0px 1px 3px 1px rgba(60, 64, 67, 0.15);\n",
       "      fill: #174EA6;\n",
       "    }\n",
       "\n",
       "    [theme=dark] .colab-df-convert {\n",
       "      background-color: #3B4455;\n",
       "      fill: #D2E3FC;\n",
       "    }\n",
       "\n",
       "    [theme=dark] .colab-df-convert:hover {\n",
       "      background-color: #434B5C;\n",
       "      box-shadow: 0px 1px 3px 1px rgba(0, 0, 0, 0.15);\n",
       "      filter: drop-shadow(0px 1px 2px rgba(0, 0, 0, 0.3));\n",
       "      fill: #FFFFFF;\n",
       "    }\n",
       "  </style>\n",
       "\n",
       "      <script>\n",
       "        const buttonEl =\n",
       "          document.querySelector('#df-9873aac9-3e20-4bf6-86ac-f7abb0515b19 button.colab-df-convert');\n",
       "        buttonEl.style.display =\n",
       "          google.colab.kernel.accessAllowed ? 'block' : 'none';\n",
       "\n",
       "        async function convertToInteractive(key) {\n",
       "          const element = document.querySelector('#df-9873aac9-3e20-4bf6-86ac-f7abb0515b19');\n",
       "          const dataTable =\n",
       "            await google.colab.kernel.invokeFunction('convertToInteractive',\n",
       "                                                     [key], {});\n",
       "          if (!dataTable) return;\n",
       "\n",
       "          const docLinkHtml = 'Like what you see? Visit the ' +\n",
       "            '<a target=\"_blank\" href=https://colab.research.google.com/notebooks/data_table.ipynb>data table notebook</a>'\n",
       "            + ' to learn more about interactive tables.';\n",
       "          element.innerHTML = '';\n",
       "          dataTable['output_type'] = 'display_data';\n",
       "          await google.colab.output.renderOutput(dataTable, element);\n",
       "          const docLink = document.createElement('div');\n",
       "          docLink.innerHTML = docLinkHtml;\n",
       "          element.appendChild(docLink);\n",
       "        }\n",
       "      </script>\n",
       "    </div>\n",
       "  </div>\n",
       "  "
      ],
      "text/plain": [
       "              emg_1      emg_2      emg_3      emg_4  pot_1  pot_2  pot_3\n",
       "0         38.690767  1444.4553  1444.4553  1444.4553  232.0  222.0  136.0\n",
       "1       1650.806058  1444.4553  1444.4553  1444.4553  232.0  222.0  136.0\n",
       "2       1650.806058  1444.4553  1444.4553  1444.4553  232.0  222.0  137.0\n",
       "3       1650.806058  1444.4553  1444.4553  1444.4553  232.0  221.0  136.0\n",
       "4       1650.806058  1444.4553  1444.4553  1444.4553  232.0  221.0  136.0\n",
       "...             ...        ...        ...        ...    ...    ...    ...\n",
       "134459  1444.455300  1444.4553  1444.4553  1444.4553  218.0  211.0  154.0\n",
       "134460  1444.455300  1444.4553  1444.4553  1444.4553  218.0  211.0  155.0\n",
       "134461  1444.455300  1444.4553  1444.4553  1444.4553  219.0  211.0  155.0\n",
       "134462  1444.455300  1444.4553  1444.4553  1444.4553  219.0  211.0  155.0\n",
       "134463  1444.455300  1444.4553  1444.4553  1444.4553  219.0  211.0  155.0\n",
       "\n",
       "[134464 rows x 7 columns]"
      ]
     },
     "execution_count": 7,
     "metadata": {},
     "output_type": "execute_result"
    }
   ],
   "source": [
    "data = data[['emg_1', 'emg_2', 'emg_3', 'emg_4', 'pot_1', 'pot_2', 'pot_3']]\n",
    "data"
   ]
  },
  {
   "cell_type": "code",
   "execution_count": 8,
   "metadata": {
    "executionInfo": {
     "elapsed": 321,
     "status": "ok",
     "timestamp": 1660914184853,
     "user": {
      "displayName": "856 Наумов Владислав Олегович",
      "userId": "16841772269897567801"
     },
     "user_tz": -180
    },
    "id": "EiZoev7KfdUl"
   },
   "outputs": [],
   "source": [
    "mean = data.mean()\n",
    "std = data.std()\n",
    "data = (data - mean) / std"
   ]
  },
  {
   "cell_type": "code",
   "execution_count": 9,
   "metadata": {
    "colab": {
     "base_uri": "https://localhost:8080/"
    },
    "executionInfo": {
     "elapsed": 7,
     "status": "ok",
     "timestamp": 1660914185695,
     "user": {
      "displayName": "856 Наумов Владислав Олегович",
      "userId": "16841772269897567801"
     },
     "user_tz": -180
    },
    "id": "L57QOpLd5eGI",
    "outputId": "21c7330b-a20e-47a2-ad64-1821c03691c0"
   },
   "outputs": [
    {
     "data": {
      "text/plain": [
       "emg_1    1547.425328\n",
       "emg_2    1531.923873\n",
       "emg_3    1554.510368\n",
       "emg_4    1534.383864\n",
       "pot_1     190.219152\n",
       "pot_2     197.889286\n",
       "pot_3     157.878384\n",
       "dtype: float64"
      ]
     },
     "execution_count": 9,
     "metadata": {},
     "output_type": "execute_result"
    }
   ],
   "source": [
    "mean"
   ]
  },
  {
   "cell_type": "code",
   "execution_count": 10,
   "metadata": {
    "colab": {
     "base_uri": "https://localhost:8080/",
     "height": 424
    },
    "executionInfo": {
     "elapsed": 8,
     "status": "ok",
     "timestamp": 1660914186979,
     "user": {
      "displayName": "856 Наумов Владислав Олегович",
      "userId": "16841772269897567801"
     },
     "user_tz": -180
    },
    "id": "X76Jbl625Vm4",
    "outputId": "c23e35d4-0167-403f-dbde-e802208ddf44"
   },
   "outputs": [
    {
     "data": {
      "text/html": [
       "\n",
       "  <div id=\"df-6b6245a6-a3d3-4102-945b-e23fd837faef\">\n",
       "    <div class=\"colab-df-container\">\n",
       "      <div>\n",
       "<style scoped>\n",
       "    .dataframe tbody tr th:only-of-type {\n",
       "        vertical-align: middle;\n",
       "    }\n",
       "\n",
       "    .dataframe tbody tr th {\n",
       "        vertical-align: top;\n",
       "    }\n",
       "\n",
       "    .dataframe thead th {\n",
       "        text-align: right;\n",
       "    }\n",
       "</style>\n",
       "<table border=\"1\" class=\"dataframe\">\n",
       "  <thead>\n",
       "    <tr style=\"text-align: right;\">\n",
       "      <th></th>\n",
       "      <th>emg_1</th>\n",
       "      <th>emg_2</th>\n",
       "      <th>emg_3</th>\n",
       "      <th>emg_4</th>\n",
       "      <th>pot_1</th>\n",
       "      <th>pot_2</th>\n",
       "      <th>pot_3</th>\n",
       "    </tr>\n",
       "  </thead>\n",
       "  <tbody>\n",
       "    <tr>\n",
       "      <th>0</th>\n",
       "      <td>-3.569975</td>\n",
       "      <td>-0.507034</td>\n",
       "      <td>-0.201626</td>\n",
       "      <td>-0.211303</td>\n",
       "      <td>1.078148</td>\n",
       "      <td>0.954066</td>\n",
       "      <td>-1.675091</td>\n",
       "    </tr>\n",
       "    <tr>\n",
       "      <th>1</th>\n",
       "      <td>0.244620</td>\n",
       "      <td>-0.507034</td>\n",
       "      <td>-0.201626</td>\n",
       "      <td>-0.211303</td>\n",
       "      <td>1.078148</td>\n",
       "      <td>0.954066</td>\n",
       "      <td>-1.675091</td>\n",
       "    </tr>\n",
       "    <tr>\n",
       "      <th>2</th>\n",
       "      <td>0.244620</td>\n",
       "      <td>-0.507034</td>\n",
       "      <td>-0.201626</td>\n",
       "      <td>-0.211303</td>\n",
       "      <td>1.078148</td>\n",
       "      <td>0.954066</td>\n",
       "      <td>-1.598527</td>\n",
       "    </tr>\n",
       "    <tr>\n",
       "      <th>3</th>\n",
       "      <td>0.244620</td>\n",
       "      <td>-0.507034</td>\n",
       "      <td>-0.201626</td>\n",
       "      <td>-0.211303</td>\n",
       "      <td>1.078148</td>\n",
       "      <td>0.914496</td>\n",
       "      <td>-1.675091</td>\n",
       "    </tr>\n",
       "    <tr>\n",
       "      <th>4</th>\n",
       "      <td>0.244620</td>\n",
       "      <td>-0.507034</td>\n",
       "      <td>-0.201626</td>\n",
       "      <td>-0.211303</td>\n",
       "      <td>1.078148</td>\n",
       "      <td>0.914496</td>\n",
       "      <td>-1.675091</td>\n",
       "    </tr>\n",
       "    <tr>\n",
       "      <th>...</th>\n",
       "      <td>...</td>\n",
       "      <td>...</td>\n",
       "      <td>...</td>\n",
       "      <td>...</td>\n",
       "      <td>...</td>\n",
       "      <td>...</td>\n",
       "      <td>...</td>\n",
       "    </tr>\n",
       "    <tr>\n",
       "      <th>134459</th>\n",
       "      <td>-0.243648</td>\n",
       "      <td>-0.507034</td>\n",
       "      <td>-0.201626</td>\n",
       "      <td>-0.211303</td>\n",
       "      <td>0.716880</td>\n",
       "      <td>0.518794</td>\n",
       "      <td>-0.296944</td>\n",
       "    </tr>\n",
       "    <tr>\n",
       "      <th>134460</th>\n",
       "      <td>-0.243648</td>\n",
       "      <td>-0.507034</td>\n",
       "      <td>-0.201626</td>\n",
       "      <td>-0.211303</td>\n",
       "      <td>0.716880</td>\n",
       "      <td>0.518794</td>\n",
       "      <td>-0.220380</td>\n",
       "    </tr>\n",
       "    <tr>\n",
       "      <th>134461</th>\n",
       "      <td>-0.243648</td>\n",
       "      <td>-0.507034</td>\n",
       "      <td>-0.201626</td>\n",
       "      <td>-0.211303</td>\n",
       "      <td>0.742685</td>\n",
       "      <td>0.518794</td>\n",
       "      <td>-0.220380</td>\n",
       "    </tr>\n",
       "    <tr>\n",
       "      <th>134462</th>\n",
       "      <td>-0.243648</td>\n",
       "      <td>-0.507034</td>\n",
       "      <td>-0.201626</td>\n",
       "      <td>-0.211303</td>\n",
       "      <td>0.742685</td>\n",
       "      <td>0.518794</td>\n",
       "      <td>-0.220380</td>\n",
       "    </tr>\n",
       "    <tr>\n",
       "      <th>134463</th>\n",
       "      <td>-0.243648</td>\n",
       "      <td>-0.507034</td>\n",
       "      <td>-0.201626</td>\n",
       "      <td>-0.211303</td>\n",
       "      <td>0.742685</td>\n",
       "      <td>0.518794</td>\n",
       "      <td>-0.220380</td>\n",
       "    </tr>\n",
       "  </tbody>\n",
       "</table>\n",
       "<p>134464 rows × 7 columns</p>\n",
       "</div>\n",
       "      <button class=\"colab-df-convert\" onclick=\"convertToInteractive('df-6b6245a6-a3d3-4102-945b-e23fd837faef')\"\n",
       "              title=\"Convert this dataframe to an interactive table.\"\n",
       "              style=\"display:none;\">\n",
       "        \n",
       "  <svg xmlns=\"http://www.w3.org/2000/svg\" height=\"24px\"viewBox=\"0 0 24 24\"\n",
       "       width=\"24px\">\n",
       "    <path d=\"M0 0h24v24H0V0z\" fill=\"none\"/>\n",
       "    <path d=\"M18.56 5.44l.94 2.06.94-2.06 2.06-.94-2.06-.94-.94-2.06-.94 2.06-2.06.94zm-11 1L8.5 8.5l.94-2.06 2.06-.94-2.06-.94L8.5 2.5l-.94 2.06-2.06.94zm10 10l.94 2.06.94-2.06 2.06-.94-2.06-.94-.94-2.06-.94 2.06-2.06.94z\"/><path d=\"M17.41 7.96l-1.37-1.37c-.4-.4-.92-.59-1.43-.59-.52 0-1.04.2-1.43.59L10.3 9.45l-7.72 7.72c-.78.78-.78 2.05 0 2.83L4 21.41c.39.39.9.59 1.41.59.51 0 1.02-.2 1.41-.59l7.78-7.78 2.81-2.81c.8-.78.8-2.07 0-2.86zM5.41 20L4 18.59l7.72-7.72 1.47 1.35L5.41 20z\"/>\n",
       "  </svg>\n",
       "      </button>\n",
       "      \n",
       "  <style>\n",
       "    .colab-df-container {\n",
       "      display:flex;\n",
       "      flex-wrap:wrap;\n",
       "      gap: 12px;\n",
       "    }\n",
       "\n",
       "    .colab-df-convert {\n",
       "      background-color: #E8F0FE;\n",
       "      border: none;\n",
       "      border-radius: 50%;\n",
       "      cursor: pointer;\n",
       "      display: none;\n",
       "      fill: #1967D2;\n",
       "      height: 32px;\n",
       "      padding: 0 0 0 0;\n",
       "      width: 32px;\n",
       "    }\n",
       "\n",
       "    .colab-df-convert:hover {\n",
       "      background-color: #E2EBFA;\n",
       "      box-shadow: 0px 1px 2px rgba(60, 64, 67, 0.3), 0px 1px 3px 1px rgba(60, 64, 67, 0.15);\n",
       "      fill: #174EA6;\n",
       "    }\n",
       "\n",
       "    [theme=dark] .colab-df-convert {\n",
       "      background-color: #3B4455;\n",
       "      fill: #D2E3FC;\n",
       "    }\n",
       "\n",
       "    [theme=dark] .colab-df-convert:hover {\n",
       "      background-color: #434B5C;\n",
       "      box-shadow: 0px 1px 3px 1px rgba(0, 0, 0, 0.15);\n",
       "      filter: drop-shadow(0px 1px 2px rgba(0, 0, 0, 0.3));\n",
       "      fill: #FFFFFF;\n",
       "    }\n",
       "  </style>\n",
       "\n",
       "      <script>\n",
       "        const buttonEl =\n",
       "          document.querySelector('#df-6b6245a6-a3d3-4102-945b-e23fd837faef button.colab-df-convert');\n",
       "        buttonEl.style.display =\n",
       "          google.colab.kernel.accessAllowed ? 'block' : 'none';\n",
       "\n",
       "        async function convertToInteractive(key) {\n",
       "          const element = document.querySelector('#df-6b6245a6-a3d3-4102-945b-e23fd837faef');\n",
       "          const dataTable =\n",
       "            await google.colab.kernel.invokeFunction('convertToInteractive',\n",
       "                                                     [key], {});\n",
       "          if (!dataTable) return;\n",
       "\n",
       "          const docLinkHtml = 'Like what you see? Visit the ' +\n",
       "            '<a target=\"_blank\" href=https://colab.research.google.com/notebooks/data_table.ipynb>data table notebook</a>'\n",
       "            + ' to learn more about interactive tables.';\n",
       "          element.innerHTML = '';\n",
       "          dataTable['output_type'] = 'display_data';\n",
       "          await google.colab.output.renderOutput(dataTable, element);\n",
       "          const docLink = document.createElement('div');\n",
       "          docLink.innerHTML = docLinkHtml;\n",
       "          element.appendChild(docLink);\n",
       "        }\n",
       "      </script>\n",
       "    </div>\n",
       "  </div>\n",
       "  "
      ],
      "text/plain": [
       "           emg_1     emg_2     emg_3     emg_4     pot_1     pot_2     pot_3\n",
       "0      -3.569975 -0.507034 -0.201626 -0.211303  1.078148  0.954066 -1.675091\n",
       "1       0.244620 -0.507034 -0.201626 -0.211303  1.078148  0.954066 -1.675091\n",
       "2       0.244620 -0.507034 -0.201626 -0.211303  1.078148  0.954066 -1.598527\n",
       "3       0.244620 -0.507034 -0.201626 -0.211303  1.078148  0.914496 -1.675091\n",
       "4       0.244620 -0.507034 -0.201626 -0.211303  1.078148  0.914496 -1.675091\n",
       "...          ...       ...       ...       ...       ...       ...       ...\n",
       "134459 -0.243648 -0.507034 -0.201626 -0.211303  0.716880  0.518794 -0.296944\n",
       "134460 -0.243648 -0.507034 -0.201626 -0.211303  0.716880  0.518794 -0.220380\n",
       "134461 -0.243648 -0.507034 -0.201626 -0.211303  0.742685  0.518794 -0.220380\n",
       "134462 -0.243648 -0.507034 -0.201626 -0.211303  0.742685  0.518794 -0.220380\n",
       "134463 -0.243648 -0.507034 -0.201626 -0.211303  0.742685  0.518794 -0.220380\n",
       "\n",
       "[134464 rows x 7 columns]"
      ]
     },
     "execution_count": 10,
     "metadata": {},
     "output_type": "execute_result"
    }
   ],
   "source": [
    "data"
   ]
  },
  {
   "cell_type": "code",
   "execution_count": null,
   "metadata": {
    "id": "auHcD_h9fgyD"
   },
   "outputs": [],
   "source": [
    "# # No spectrogram\n",
    "# x_size = 25\n",
    "# y_size = 5\n",
    "# Batch_size = 50\n",
    "\n",
    "# def create_sequences(values, x_size, y_size):\n",
    "#     print(len(values))\n",
    "#     X_output = []\n",
    "#     Y_output = []\n",
    "#     for i in range(0, len(values)-y_size - x_size, x_size): # + y_size\n",
    "#         X_output.append(values[i : (i + x_size)])\n",
    "#         Y_output.append(values[(i + x_size) : (i + x_size + y_size)])\n",
    "#     # print(i)\n",
    "#     return torch.FloatTensor(X_output).permute(0, 2, 1), torch.FloatTensor(Y_output).permute(0, 2, 1)\n",
    "# #     return torch.from_numpy(np.array(X_output)).to(torch.float32).permute(0, 2, 1), torch.from_numpy(np.array(Y_output)).to(torch.float32).permute(0, 2, 1)\n",
    "\n",
    "\n",
    "# X, Y = create_sequences(data.values, x_size, y_size)\n",
    "# x_train, x_val, y_train, y_val = train_test_split(X, Y, test_size=0.1, shuffle=False)\n",
    "# print(\"Training x input shape: \", x_train.shape)\n",
    "# print(\"Training y input shape: \", y_train.shape)\n",
    "# train_dataset = TensorDataset(x_train, y_train)\n",
    "# val_dataset = TensorDataset(x_val, y_val)\n",
    "# train_loader = DataLoader(train_dataset, batch_size=Batch_size, shuffle=True)\n",
    "# val_loader = DataLoader(val_dataset, batch_size=Batch_size, shuffle=True)"
   ]
  },
  {
   "cell_type": "code",
   "execution_count": 36,
   "metadata": {
    "colab": {
     "base_uri": "https://localhost:8080/"
    },
    "executionInfo": {
     "elapsed": 15302,
     "status": "ok",
     "timestamp": 1660914570917,
     "user": {
      "displayName": "856 Наумов Владислав Олегович",
      "userId": "16841772269897567801"
     },
     "user_tz": -180
    },
    "id": "tTBMImN0JT5Q",
    "outputId": "716fb080-35ca-4568-abcc-1113d54e3bce"
   },
   "outputs": [
    {
     "name": "stdout",
     "output_type": "stream",
     "text": [
      "torch.Size([5377, 7, 25])\n",
      "torch.Size([5377, 4, 33, 13])\n"
     ]
    },
    {
     "name": "stderr",
     "output_type": "stream",
     "text": [
      "/usr/local/lib/python3.7/dist-packages/librosa/core/spectrum.py:224: UserWarning: n_fft=64 is too small for input signal of length=25\n",
      "  n_fft, y.shape[-1]\n"
     ]
    },
    {
     "name": "stdout",
     "output_type": "stream",
     "text": [
      "Training x (spectr) input shape:  torch.Size([4839, 4, 33, 13])\n",
      "Training y (spectr) input shape:  torch.Size([4839, 4, 33, 13])\n",
      "Training x (coord) input shape:  torch.Size([4839, 25])\n",
      "Training y (coord) input shape:  torch.Size([4839, 25])\n"
     ]
    }
   ],
   "source": [
    "x_size = 25\n",
    "y_size = 25\n",
    "Batch_size = 50\n",
    "\n",
    "def create_sequences(values, x_size, y_size):\n",
    "    # print(len(values))\n",
    "    X_output = []\n",
    "    Y_output = []\n",
    "    for i in range(0, len(values)-y_size - x_size, x_size): # + y_size\n",
    "        X_output.append(values[i : (i + x_size)])\n",
    "        Y_output.append(values[(i + x_size) : (i + x_size + y_size)])\n",
    "    X_output = torch.FloatTensor(X_output).permute(0, 2, 1)\n",
    "    Y_output = torch.FloatTensor(Y_output).permute(0, 2, 1)\n",
    "    print(X_output.size())\n",
    "    # print(X_output.size(), Y_output.size())\n",
    "    S_x = torch.zeros(X_output.size(0), X_output.size(1)-3, 33, 13)\n",
    "    print(S_x.size())\n",
    "    S_y = torch.zeros(Y_output.size(0), Y_output.size(1)-3, 33, 13)\n",
    "    for i in range(X_output.size(0)):\n",
    "      for j in range(X_output.size(1)-3):\n",
    "        S_x[i, j] = torch.FloatTensor((np.abs(librosa.stft(X_output[i, j].numpy(), n_fft=64, hop_length=2))))\n",
    "    for i in range(Y_output.size(0)):\n",
    "      for j in range(Y_output.size(1)-3):\n",
    "        S_y[i, j] = torch.FloatTensor((np.abs(librosa.stft(Y_output[i, j].numpy(), n_fft=64, hop_length=2))))\n",
    "    # print(S_x.size())\n",
    "    return S_x, S_y, X_output[:,4,:], Y_output[:,4,:]\n",
    "\n",
    "# print(np.abs(librosa.stft(X_output, n_fft=, hop_length=64)))\n",
    "X_sp, Y_sp, X_coord, Y_coord = create_sequences(data.values, x_size, y_size)\n",
    "X_sp_train, X_sp_val, Y_sp_train, Y_sp_val = train_test_split(X_sp, Y_sp, test_size=0.1, shuffle=False)\n",
    "X_coord_train, X_coord_val, Y_coord_train, Y_coord_val = train_test_split(X_coord, Y_coord, test_size=0.1, shuffle=False)\n",
    "\n",
    "print(\"Training x (spectr) input shape: \", X_sp_train.shape)\n",
    "print(\"Training y (spectr) input shape: \", Y_sp_train.shape)\n",
    "print(\"Training x (coord) input shape: \", X_coord_train.shape)\n",
    "print(\"Training y (coord) input shape: \", Y_coord_train.shape)\n",
    "\n",
    "train_dataset = TensorDataset(X_sp_train, X_coord_train, Y_coord_train)\n",
    "val_dataset = TensorDataset(X_sp_val, X_coord_val, Y_coord_val)\n",
    "train_loader = DataLoader(train_dataset, batch_size=Batch_size, shuffle=False)\n",
    "val_loader = DataLoader(val_dataset, batch_size=Batch_size, shuffle=False)"
   ]
  },
  {
   "cell_type": "markdown",
   "metadata": {
    "id": "5khFg3kMG9Fm"
   },
   "source": [
    "Применение спектрограмм"
   ]
  },
  {
   "cell_type": "code",
   "execution_count": null,
   "metadata": {
    "id": "kE2B0kTqfxz_"
   },
   "outputs": [],
   "source": [
    "# # with spectrogram\n",
    "# class RNN(nn.Module):\n",
    "#     def __init__(self):\n",
    "#         super(RNN, self).__init__()\n",
    "#         self.encoder1 = nn.Sequential(\n",
    "#             nn.Conv2d(4,32, kernel_size=3, stride=1, padding=1),\n",
    "#             nn.BatchNorm2d(32),\n",
    "#             nn.ReLU()\n",
    "#         )\n",
    "#         self.encoder2 = nn.Sequential(\n",
    "#             nn.Conv2d(32, 64, kernel_size=3, stride=1, padding=1),\n",
    "#             nn.BatchNorm2d(64),\n",
    "#             nn.ReLU(),\n",
    "#             nn.Conv2d(64, 16, kernel_size=3, stride=1, padding=1),\n",
    "#             nn.BatchNorm2d(16),\n",
    "#             nn.ReLU(),\n",
    "#         )\n",
    "#         self.decoder = nn.Sequential(\n",
    "#             nn.ConvTranspose2d(16, 16, kernel_size=3, stride=1, padding=1),\n",
    "#             nn.BatchNorm2d(16),\n",
    "#             nn.ReLU(),\n",
    "#             nn.Dropout(0.2),\n",
    "#             nn.ConvTranspose2d(16, 32, kernel_size=3, stride=1, padding=1),\n",
    "#             nn.BatchNorm2d(32),\n",
    "#             nn.ReLU(),\n",
    "#             nn.ConvTranspose2d(32, 64, kernel_size=3, stride=1, padding=1),\n",
    "#             nn.BatchNorm2d(64),\n",
    "#             nn.ReLU())\n",
    "#         self.lstm1 = nn.LSTM(input_size=27481, hidden_size=256,num_layers=2, batch_first=True)\n",
    "\n",
    "#         self.FCN = nn.Sequential(\n",
    "#             nn.Linear(in_features=256, out_features=128),\n",
    "#             nn.ReLU(),\n",
    "#             nn.Linear(in_features=128, out_features=64),\n",
    "#             nn.ReLU(),\n",
    "#             nn.Linear(in_features=64, out_features=y_size)\n",
    "#         )\n",
    "# #             nn.ReLU(),\n",
    "# #             nn.Linear(in_features=256, out_features=128),\n",
    "# #             nn.ReLU(),\n",
    "# #             nn.Linear(in_features=128, out_features=50),\n",
    "#     def forward(self, sample_sp, sample_coord):\n",
    "#         conv = self.encoder1(sample_sp)\n",
    "#         latent = self.encoder2(conv)\n",
    "#         x = self.decoder(latent)\n",
    "#         x = x.view(x.shape[0],-1)\n",
    "#         # print(x.shape)\n",
    "#         # print(sample_coord.view(sample_coord.shape[0],-1).shape)\n",
    "#         x = torch.cat((x, sample_coord), dim=1)\n",
    "#         # print(x.shape)\n",
    "#         x = self.lstm1(x)[0]\n",
    "#         # print(x.shape)\n",
    "#         res = self.FCN(x)\n",
    "#         return res, conv"
   ]
  },
  {
   "cell_type": "code",
   "execution_count": 37,
   "metadata": {
    "executionInfo": {
     "elapsed": 249,
     "status": "ok",
     "timestamp": 1660914598449,
     "user": {
      "displayName": "856 Наумов Владислав Олегович",
      "userId": "16841772269897567801"
     },
     "user_tz": -180
    },
    "id": "hsicemxmFhOk"
   },
   "outputs": [],
   "source": [
    "# with spectrogram\n",
    "class RNN(nn.Module):\n",
    "    def __init__(self):\n",
    "        super(RNN, self).__init__()\n",
    "        self.encoder = nn.Sequential(\n",
    "            nn.Conv2d(4,32, kernel_size=3, stride=1, padding=1),\n",
    "            nn.BatchNorm2d(32),\n",
    "            nn.ReLU(),\n",
    "            nn.Conv2d(32, 64, kernel_size=3, stride=1, padding=1),\n",
    "            nn.BatchNorm2d(64),\n",
    "            nn.ReLU(),\n",
    "            nn.Conv2d(64, 16, kernel_size=3, stride=1, padding=1),\n",
    "            nn.BatchNorm2d(16),\n",
    "            nn.ReLU(),\n",
    "        )\n",
    "        self.decoder = nn.Sequential(\n",
    "            nn.ConvTranspose2d(16, 16, kernel_size=3, stride=1, padding=1),\n",
    "            nn.BatchNorm2d(16),\n",
    "            nn.ReLU(),\n",
    "            nn.Dropout(0.2),\n",
    "            nn.ConvTranspose2d(16, 32, kernel_size=3, stride=1, padding=1),\n",
    "            nn.BatchNorm2d(32),\n",
    "            nn.ReLU(),\n",
    "            nn.ConvTranspose2d(32, 64, kernel_size=3, stride=1, padding=1),\n",
    "            nn.BatchNorm2d(64),\n",
    "            nn.ReLU())\n",
    "        self.lstm1 = nn.LSTM(input_size=27481, hidden_size=256,num_layers=2, batch_first=True)\n",
    "\n",
    "        self.FCN = nn.Sequential(\n",
    "            nn.Linear(in_features=256, out_features=128),\n",
    "            nn.ReLU(),\n",
    "            nn.Linear(in_features=128, out_features=64),\n",
    "            nn.ReLU(),\n",
    "            nn.Linear(in_features=64, out_features=y_size)\n",
    "        )\n",
    "#             nn.ReLU(),\n",
    "#             nn.Linear(in_features=256, out_features=128),\n",
    "#             nn.ReLU(),\n",
    "#             nn.Linear(in_features=128, out_features=50),\n",
    "    def forward(self, sample_sp, sample_coord):\n",
    "        latent = self.encoder(sample_sp)\n",
    "        x = self.decoder(latent)\n",
    "        x = x.view(x.shape[0],-1)\n",
    "        # print(x.shape)\n",
    "        # print(sample_coord.shape)\n",
    "        # print(sample_coord.view(sample_coord.shape[0],-1).shape)\n",
    "        x = torch.cat((x, sample_coord), dim=1)\n",
    "        # print(x.shape)\n",
    "        x = self.lstm1(x)[0]\n",
    "        # print(x.shape)\n",
    "        res = self.FCN(x)\n",
    "        return res"
   ]
  },
  {
   "cell_type": "code",
   "execution_count": null,
   "metadata": {
    "colab": {
     "base_uri": "https://localhost:8080/",
     "height": 49,
     "referenced_widgets": [
      "59126243412c4c30bb2d2c8e74f9f0fd",
      "cbe9d2a86683483f944b3000b7c09896",
      "c88e3c430ea148398f3c84e72cdf597a",
      "be5a8751064d4e9cae34e70a580c3dc3",
      "4f5d9ae3de004fefba9b9b41f2021291",
      "5e69ced2a4d040489392b2d7fa7ce453",
      "9d1ee5f45fcd45798a5511d61ba756ed",
      "5cbc9ec48f7948858603264701d3f7c3",
      "19bff2de80fe4d2e884ddd899b9820b7",
      "a664bbda74ed461ab8cc3df0d9c2b4ee",
      "95f78921cd7b4152836213b60f8aaed6"
     ]
    },
    "id": "wPBx-ae-f0LA",
    "outputId": "e7fc444f-dcd1-4341-e411-ed438b214cf5"
   },
   "outputs": [
    {
     "data": {
      "application/vnd.jupyter.widget-view+json": {
       "model_id": "59126243412c4c30bb2d2c8e74f9f0fd",
       "version_major": 2,
       "version_minor": 0
      },
      "text/plain": [
       "  0%|          | 0/100 [00:00<?, ?it/s]"
      ]
     },
     "metadata": {},
     "output_type": "display_data"
    }
   ],
   "source": [
    "n_epochs = 100\n",
    "device = 'cuda:0' if torch.cuda.is_available() else 'cpu'           \n",
    "\n",
    "model = RNN().to(device)\n",
    "optimizer = torch.optim.Adam(model.parameters(), lr=3e-4)\n",
    "loss_fn = F.mse_loss\n",
    "train_losses = []\n",
    "val_losses = []\n",
    "\n",
    "for epoch in tqdm.notebook.tqdm(range(n_epochs)):\n",
    "    model.train()\n",
    "    train_losses_per_epoch = []\n",
    "    for X_batch_sp, X_batch_coord, Y_batch_coord in train_loader:\n",
    "        optimizer.zero_grad()\n",
    "        reconstructed = model(X_batch_sp.to(device), X_batch_coord.to(device))\n",
    "        loss = loss_fn(reconstructed, Y_batch_coord.to(device))\n",
    "        loss.backward()\n",
    "        optimizer.step()\n",
    "        train_losses_per_epoch.append(loss.item())\n",
    "    train_losses.append(np.mean(train_losses_per_epoch))\n",
    "\n",
    "    model.eval()\n",
    "    val_losses_per_epoch = []\n",
    "    with torch.no_grad():\n",
    "        for X_batch_sp, X_batch_coord, Y_batch_coord in val_loader:\n",
    "            reconstructed = model(X_batch_sp.to(device), X_batch_coord.to(device))\n",
    "            loss = loss_fn(reconstructed, Y_batch_coord.to(device))\n",
    "            val_losses_per_epoch.append(loss.item())\n",
    "\n",
    "    val_losses.append(np.mean(val_losses_per_epoch))\n"
   ]
  },
  {
   "cell_type": "code",
   "execution_count": null,
   "metadata": {
    "id": "p5aPLeCXQFEM"
   },
   "outputs": [],
   "source": []
  },
  {
   "cell_type": "code",
   "execution_count": null,
   "metadata": {
    "id": "FGroDZUppv0g"
   },
   "outputs": [],
   "source": [
    "# from sys import path\n",
    "# torch.save(model.state_dict(), '/content/drive/MyDrive/Экзоскелет/RNN')"
   ]
  },
  {
   "cell_type": "code",
   "execution_count": 40,
   "metadata": {
    "colab": {
     "base_uri": "https://localhost:8080/"
    },
    "executionInfo": {
     "elapsed": 219,
     "status": "ok",
     "timestamp": 1660914762934,
     "user": {
      "displayName": "856 Наумов Владислав Олегович",
      "userId": "16841772269897567801"
     },
     "user_tz": -180
    },
    "id": "0bACLRXA6YuN",
    "outputId": "3d21658c-0dc0-45bf-f0b2-0c499e439580"
   },
   "outputs": [
    {
     "data": {
      "text/plain": [
       "[0.5088671527125619,\n",
       " 0.5130164108493112,\n",
       " 0.5051216564395211,\n",
       " 0.5130767375230789,\n",
       " 0.5186031718145717,\n",
       " 0.5180467028509487,\n",
       " 0.5165385549718683,\n",
       " 0.4839337156577544,\n",
       " 0.512169676748189,\n",
       " 0.43363131108609115,\n",
       " 0.46510256149552087,\n",
       " 0.37181801010261883,\n",
       " 0.12154437483034351,\n",
       " 0.06431208313866095,\n",
       " 0.04669886793602596,\n",
       " 0.04227571049705148,\n",
       " 0.031601752239194786,\n",
       " 0.04179076130755923,\n",
       " 0.03048051665113731,\n",
       " 0.07179163904352621,\n",
       " 0.021513255016708917,\n",
       " 0.023956111462956124,\n",
       " 0.023030528460036625,\n",
       " 0.023151199248704044,\n",
       " 0.022424264218319546,\n",
       " 0.0217361565340649,\n",
       " 0.014796104409139265,\n",
       " 0.01804762240499258,\n",
       " 0.01559584079818292,\n",
       " 0.01896725222468376,\n",
       " 0.01188178106465123,\n",
       " 0.011754277733747254,\n",
       " 0.011859831103885716,\n",
       " 0.012351539790291678,\n",
       " 0.012777396901087328,\n",
       " 0.012683535121719946,\n",
       " 0.011611659079790115,\n",
       " 0.009022008183158257,\n",
       " 0.0075054496251554656,\n",
       " 0.006492246471514756,\n",
       " 0.007987780517644504,\n",
       " 0.006267639321529053,\n",
       " 0.008935584845444695,\n",
       " 0.007958752960389988,\n",
       " 0.007682470774108713,\n",
       " 0.014558012978258457,\n",
       " 0.00947883629917421,\n",
       " 0.005289569856937636,\n",
       " 0.004773247701285238,\n",
       " 0.005868442949246277]"
      ]
     },
     "execution_count": 40,
     "metadata": {},
     "output_type": "execute_result"
    }
   ],
   "source": [
    "val_losses"
   ]
  },
  {
   "cell_type": "code",
   "execution_count": 41,
   "metadata": {
    "colab": {
     "base_uri": "https://localhost:8080/",
     "height": 458
    },
    "executionInfo": {
     "elapsed": 447,
     "status": "ok",
     "timestamp": 1660914766323,
     "user": {
      "displayName": "856 Наумов Владислав Олегович",
      "userId": "16841772269897567801"
     },
     "user_tz": -180
    },
    "id": "e_2MwmBcgHEp",
    "outputId": "cee328cc-8789-46af-c93a-4544fc9eb8cf"
   },
   "outputs": [
    {
     "data": {
      "image/png": "[encoded data removed]",
      "text/plain": [
       "<Figure size 720x504 with 1 Axes>"
      ]
     },
     "metadata": {
      "needs_background": "light"
     },
     "output_type": "display_data"
    }
   ],
   "source": [
    "plt.figure(figsize=(10, 7))\n",
    "plt.plot(np.arange(len(train_losses)), train_losses, label='Train')\n",
    "plt.plot(np.arange(len(val_losses)), val_losses, label='Validation', color='red')\n",
    "\n",
    "plt.xlabel('Epoch')\n",
    "# plt.ylim(0, 0.5)\n",
    "plt.title('MSE loss (Спектрограммы)')\n",
    "plt.legend()\n",
    "plt.show()"
   ]
  },
  {
   "cell_type": "code",
   "execution_count": 42,
   "metadata": {
    "colab": {
     "base_uri": "https://localhost:8080/"
    },
    "executionInfo": {
     "elapsed": 254,
     "status": "ok",
     "timestamp": 1660914769621,
     "user": {
      "displayName": "856 Наумов Владислав Олегович",
      "userId": "16841772269897567801"
     },
     "user_tz": -180
    },
    "id": "ELu7OAjO8K9u",
    "outputId": "d368e67a-18dd-4afe-dbec-0af4db3e104e"
   },
   "outputs": [
    {
     "data": {
      "text/plain": [
       "0.13400759531904688"
      ]
     },
     "execution_count": 42,
     "metadata": {},
     "output_type": "execute_result"
    }
   ],
   "source": [
    "np.mean(val_losses)"
   ]
  },
  {
   "cell_type": "code",
   "execution_count": null,
   "metadata": {
    "id": "7fZFyTyJF4u0"
   },
   "outputs": [],
   "source": [
    "# plt.figure(figsize=(10, 7))\n",
    "# plt.plot(np.arange(len(train_losses)), np.array(train_losses)*std[4]+mean[4], label='Train')\n",
    "# plt.plot(np.arange(len(val_losses)), np.array(val_losses)*std[4]+mean[4], label='Validation')\n",
    "\n",
    "# plt.xlabel('Epoch')\n",
    "# plt.ylim(0, 2000)\n",
    "# plt.title('MSE loss')\n",
    "# plt.legend()\n",
    "# plt.show()"
   ]
  },
  {
   "cell_type": "code",
   "execution_count": 43,
   "metadata": {
    "colab": {
     "base_uri": "https://localhost:8080/"
    },
    "executionInfo": {
     "elapsed": 572,
     "status": "ok",
     "timestamp": 1660914771992,
     "user": {
      "displayName": "856 Наумов Владислав Олегович",
      "userId": "16841772269897567801"
     },
     "user_tz": -180
    },
    "id": "oCuu-2k_gY18",
    "outputId": "a56e4232-8a6c-4d5f-fe9a-69e41fe48714"
   },
   "outputs": [
    {
     "name": "stdout",
     "output_type": "stream",
     "text": [
      "37.935543060302734\n"
     ]
    }
   ],
   "source": [
    "test_loader = DataLoader(train_dataset, batch_size=500, shuffle=False)\n",
    "\n",
    "model.eval()\n",
    "x_pred = []\n",
    "ground = []\n",
    "losses = []\n",
    "times = []\n",
    "with torch.no_grad():\n",
    "    \n",
    "    for X_batch_sp, X_batch_coord, Y_batch_coord in test_loader:\n",
    "        now = time.time()\n",
    "        pred = model(X_batch_sp.to(device), X_batch_coord.to(device)).cpu().numpy()\n",
    "        later = time.time()\n",
    "        times.append(1000*(later - now))\n",
    "        x_pred.append(pred)\n",
    "        ground.append(Y_batch_coord)      \n",
    "        losses.append(np.mean(np.abs(pred - Y_batch_coord.numpy())))\n",
    "print(sum(times)/len(times))"
   ]
  },
  {
   "cell_type": "code",
   "execution_count": 44,
   "metadata": {
    "colab": {
     "base_uri": "https://localhost:8080/",
     "height": 283
    },
    "executionInfo": {
     "elapsed": 254,
     "status": "ok",
     "timestamp": 1660914774071,
     "user": {
      "displayName": "856 Наумов Владислав Олегович",
      "userId": "16841772269897567801"
     },
     "user_tz": -180
    },
    "id": "cn0hNARrgbXi",
    "outputId": "a43aee28-096c-45f6-91bf-99ea7783de70"
   },
   "outputs": [
    {
     "data": {
      "text/plain": [
       "[<matplotlib.lines.Line2D at 0x7f0460af9d90>]"
      ]
     },
     "execution_count": 44,
     "metadata": {},
     "output_type": "execute_result"
    },
    {
     "data": {
      "image/png": "[encoded data removed]",
      "text/plain": [
       "<Figure size 432x288 with 1 Axes>"
      ]
     },
     "metadata": {
      "needs_background": "light"
     },
     "output_type": "display_data"
    }
   ],
   "source": [
    "plt.plot(losses)"
   ]
  },
  {
   "cell_type": "code",
   "execution_count": 45,
   "metadata": {
    "colab": {
     "base_uri": "https://localhost:8080/"
    },
    "executionInfo": {
     "elapsed": 331,
     "status": "ok",
     "timestamp": 1660914776449,
     "user": {
      "displayName": "856 Наумов Владислав Олегович",
      "userId": "16841772269897567801"
     },
     "user_tz": -180
    },
    "id": "us3xmLBEhe4R",
    "outputId": "0a449faf-37fc-4083-9683-a99f33525b3b"
   },
   "outputs": [
    {
     "data": {
      "text/plain": [
       "10"
      ]
     },
     "execution_count": 45,
     "metadata": {},
     "output_type": "execute_result"
    }
   ],
   "source": [
    "len(ground)"
   ]
  },
  {
   "cell_type": "code",
   "execution_count": 46,
   "metadata": {
    "executionInfo": {
     "elapsed": 2,
     "status": "ok",
     "timestamp": 1660914776693,
     "user": {
      "displayName": "856 Наумов Владислав Олегович",
      "userId": "16841772269897567801"
     },
     "user_tz": -180
    },
    "id": "jOnM14hkg3wW"
   },
   "outputs": [],
   "source": [
    "gr = []\n",
    "predict = []\n",
    "for i in range(len(ground[0])):\n",
    "    a = ground[1][i]\n",
    "    b = x_pred[1][i]\n",
    "    gr.append(a)\n",
    "    predict.append(b)\n",
    "    \n",
    "\n",
    "gr = torch.ravel(torch.stack(gr))\n",
    "pred = np.ravel(np.stack(predict))"
   ]
  },
  {
   "cell_type": "code",
   "execution_count": 47,
   "metadata": {
    "colab": {
     "base_uri": "https://localhost:8080/",
     "height": 279
    },
    "executionInfo": {
     "elapsed": 513,
     "status": "ok",
     "timestamp": 1660914780595,
     "user": {
      "displayName": "856 Наумов Владислав Олегович",
      "userId": "16841772269897567801"
     },
     "user_tz": -180
    },
    "id": "yTADADRQg65m",
    "outputId": "2a5d70fc-55e5-46ad-8385-ca5902462cd1"
   },
   "outputs": [
    {
     "data": {
      "image/png": "[encoded data removed]",
      "text/plain": [
       "<Figure size 1080x288 with 1 Axes>"
      ]
     },
     "metadata": {
      "needs_background": "light"
     },
     "output_type": "display_data"
    }
   ],
   "source": [
    "# shuffled\n",
    "plt.figure(figsize=(15, 4))\n",
    "plt.plot(gr*std[6]+mean[6], label='Истинная траектория', color='blue')\n",
    "plt.plot(pred*std[6]+mean[6], label='Предсказання траектория', color='red')\n",
    "# plt.plot(gr, label='Ground truth', color='blue')\n",
    "# plt.plot(pred, label='Predicted', color='red')\n",
    "# plt.plot(pred*std[4]+mean[4], color='red')\n",
    "plt.xlabel('Угол, град')\n",
    "plt.ylabel('Время, мс')\n",
    "plt.legend()\n",
    "# plt.savefig('/content/drive/MyDrive/Экзоскелет/saved_figure.png', transparent=True, bbox_inches='tight')\n",
    "plt.show()"
   ]
  },
  {
   "cell_type": "code",
   "execution_count": null,
   "metadata": {
    "id": "7b8vwq4ZVA48"
   },
   "outputs": [],
   "source": [
    "# # shuffled\n",
    "# plt.figure(figsize=(15, 4))\n",
    "# plt.plot(gr, label='Ground truth', color='blue')\n",
    "# plt.plot(pred, label='Predicted', color='red')\n",
    "\n",
    "# plt.legend()\n",
    "# # plt.savefig('/content/drive/MyDrive/Экзоскелет/saved_figure.png', transparent=True, bbox_inches='tight')\n",
    "# plt.show()"
   ]
  },
  {
   "cell_type": "code",
   "execution_count": 48,
   "metadata": {
    "colab": {
     "base_uri": "https://localhost:8080/",
     "height": 297
    },
    "executionInfo": {
     "elapsed": 748,
     "status": "ok",
     "timestamp": 1660914810809,
     "user": {
      "displayName": "856 Наумов Владислав Олегович",
      "userId": "16841772269897567801"
     },
     "user_tz": -180
    },
    "id": "2rdvTfDI42dv",
    "outputId": "5ab29264-d2e5-4a60-fe9c-b674ade6828c"
   },
   "outputs": [
    {
     "data": {
      "text/plain": [
       "Text(0, 0.5, 'Время, мс')"
      ]
     },
     "execution_count": 48,
     "metadata": {},
     "output_type": "execute_result"
    },
    {
     "data": {
      "image/png": "[encoded data removed]",
      "text/plain": [
       "<Figure size 1080x288 with 1 Axes>"
      ]
     },
     "metadata": {
      "needs_background": "light"
     },
     "output_type": "display_data"
    }
   ],
   "source": [
    "plt.figure(figsize=(15, 4))\n",
    "gr_er = gr*std[4]+mean[4]\n",
    "pred_er = pred*std[4]+mean[4]\n",
    "losses = np.abs(gr_er - pred_er)\n",
    "plt.plot(losses)\n",
    "plt.xlabel('Угол, град')\n",
    "plt.ylabel('Время, мс')"
   ]
  },
  {
   "cell_type": "code",
   "execution_count": 49,
   "metadata": {
    "colab": {
     "base_uri": "https://localhost:8080/"
    },
    "executionInfo": {
     "elapsed": 232,
     "status": "ok",
     "timestamp": 1660914814652,
     "user": {
      "displayName": "856 Наумов Владислав Олегович",
      "userId": "16841772269897567801"
     },
     "user_tz": -180
    },
    "id": "gQoWKnfyDCLu",
    "outputId": "02fab2b0-a253-4fb9-89e2-cbf6d0824356"
   },
   "outputs": [
    {
     "data": {
      "text/plain": [
       "tensor([5.1147, 3.8810, 5.2475,  ..., 2.8217, 3.8216, 3.6948])"
      ]
     },
     "execution_count": 49,
     "metadata": {},
     "output_type": "execute_result"
    }
   ],
   "source": [
    "losses"
   ]
  },
  {
   "cell_type": "code",
   "execution_count": null,
   "metadata": {
    "colab": {
     "base_uri": "https://localhost:8080/",
     "height": 282
    },
    "executionInfo": {
     "elapsed": 1005,
     "status": "ok",
     "timestamp": 1655637013103,
     "user": {
      "displayName": "856 Наумов Владислав Олегович",
      "userId": "16841772269897567801"
     },
     "user_tz": -180
    },
    "id": "g6cAoDlm8ZCs",
    "outputId": "3d59654e-ad66-4ce5-eb2d-b60e13137828"
   },
   "outputs": [
    {
     "data": {
      "text/plain": [
       "[<matplotlib.lines.Line2D at 0x7fba42d9c990>]"
      ]
     },
     "execution_count": 111,
     "metadata": {},
     "output_type": "execute_result"
    },
    {
     "data": {
      "image/png": "[encoded data removed]",
      "text/plain": [
       "<Figure size 1080x288 with 1 Axes>"
      ]
     },
     "metadata": {
      "needs_background": "light"
     },
     "output_type": "display_data"
    }
   ],
   "source": [
    "# plt.figure(figsize=(15, 4))\n",
    "# gr_er = gr*std[4]+mean[4]\n",
    "# pred_er = pred*std[4]+mean[4]\n",
    "# losses = (gr_er - pred_er)**2\n",
    "# plt.plot(losses)"
   ]
  },
  {
   "cell_type": "code",
   "execution_count": 51,
   "metadata": {
    "executionInfo": {
     "elapsed": 219,
     "status": "ok",
     "timestamp": 1660914825309,
     "user": {
      "displayName": "856 Наумов Владислав Олегович",
      "userId": "16841772269897567801"
     },
     "user_tz": -180
    },
    "id": "S_EUAFpd8AI1"
   },
   "outputs": [],
   "source": []
  },
  {
   "cell_type": "code",
   "execution_count": 54,
   "metadata": {
    "colab": {
     "base_uri": "https://localhost:8080/"
    },
    "executionInfo": {
     "elapsed": 226,
     "status": "ok",
     "timestamp": 1660914841046,
     "user": {
      "displayName": "856 Наумов Владислав Олегович",
      "userId": "16841772269897567801"
     },
     "user_tz": -180
    },
    "id": "9Cevc0Df58-H",
    "outputId": "6c4cf840-8641-453d-8ff9-8d724cb25e69"
   },
   "outputs": [
    {
     "name": "stdout",
     "output_type": "stream",
     "text": [
      "10700\n",
      "Accuracy: 0.856\n"
     ]
    }
   ],
   "source": [
    "# print(np.mean(losses))\n",
    "# print(len(losses))\n",
    "# print(losses)\n",
    "\n",
    "error = 10\n",
    "count = 0\n",
    "for el in losses:\n",
    "  if el < error:\n",
    "    count += 1\n",
    "print(count)\n",
    "print('Accuracy:', count/len(losses))"
   ]
  },
  {
   "cell_type": "code",
   "execution_count": 55,
   "metadata": {
    "colab": {
     "base_uri": "https://localhost:8080/",
     "height": 265
    },
    "executionInfo": {
     "elapsed": 497,
     "status": "ok",
     "timestamp": 1660914842585,
     "user": {
      "displayName": "856 Наумов Владислав Олегович",
      "userId": "16841772269897567801"
     },
     "user_tz": -180
    },
    "id": "oxAxbfz5FD2e",
    "outputId": "518b55b7-5001-48a9-eb78-de9bdf83c4e0"
   },
   "outputs": [
    {
     "data": {
      "image/png": "[encoded data removed]",
      "text/plain": [
       "<Figure size 1080x288 with 1 Axes>"
      ]
     },
     "metadata": {
      "needs_background": "light"
     },
     "output_type": "display_data"
    }
   ],
   "source": [
    "# no shuffled\n",
    "plt.figure(figsize=(15, 4))\n",
    "plt.plot(gr, label='Ground truth')\n",
    "plt.plot(pred, label='Predicted')\n",
    "\n",
    "plt.legend()\n",
    "plt.show()"
   ]
  },
  {
   "cell_type": "code",
   "execution_count": null,
   "metadata": {
    "colab": {
     "base_uri": "https://localhost:8080/"
    },
    "executionInfo": {
     "elapsed": 529,
     "status": "ok",
     "timestamp": 1653557129844,
     "user": {
      "displayName": "856 Наумов Владислав Олегович",
      "userId": "16841772269897567801"
     },
     "user_tz": -180
    },
    "id": "gY2UxdAxIQch",
    "outputId": "d541e1c0-ba48-4bcf-8ba1-af8dcb54d58d"
   },
   "outputs": [
    {
     "data": {
      "text/plain": [
       "0.09092113632650581"
      ]
     },
     "execution_count": 177,
     "metadata": {},
     "output_type": "execute_result"
    }
   ],
   "source": [
    "sum(val_losses) / len(val_losses)"
   ]
  },
  {
   "cell_type": "code",
   "execution_count": null,
   "metadata": {
    "id": "vj1fKDjGry3k"
   },
   "outputs": [],
   "source": []
  }
 ],
 "metadata": {
  "accelerator": "GPU",
  "colab": {
   "collapsed_sections": [],
   "name": "Deep_collab.ipynb",
   "provenance": []
  },
  "kernelspec": {
   "display_name": "Python 3.9.12 ('base')",
   "language": "python",
   "name": "python3"
  },
  "language_info": {
   "codemirror_mode": {
    "name": "ipython",
    "version": 3
   },
   "file_extension": ".py",
   "mimetype": "text/x-python",
   "name": "python",
   "nbconvert_exporter": "python",
   "pygments_lexer": "ipython3",
   "version": "3.9.12"
  },
  "vscode": {
   "interpreter": {
    "hash": "40d3a090f54c6569ab1632332b64b2c03c39dcf918b08424e98f38b5ae0af88f"
   }
  },
  "widgets": {
   "application/vnd.jupyter.widget-state+json": {
    "19bff2de80fe4d2e884ddd899b9820b7": {
     "model_module": "@jupyter-widgets/controls",
     "model_module_version": "1.5.0",
     "model_name": "ProgressStyleModel",
     "state": {
      "_model_module": "@jupyter-widgets/controls",
      "_model_module_version": "1.5.0",
      "_model_name": "ProgressStyleModel",
      "_view_count": null,
      "_view_module": "@jupyter-widgets/base",
      "_view_module_version": "1.2.0",
      "_view_name": "StyleView",
      "bar_color": null,
      "description_width": ""
     }
    },
    "4f5d9ae3de004fefba9b9b41f2021291": {
     "model_module": "@jupyter-widgets/base",
     "model_module_version": "1.2.0",
     "model_name": "LayoutModel",
     "state": {
      "_model_module": "@jupyter-widgets/base",
      "_model_module_version": "1.2.0",
      "_model_name": "LayoutModel",
      "_view_count": null,
      "_view_module": "@jupyter-widgets/base",
      "_view_module_version": "1.2.0",
      "_view_name": "LayoutView",
      "align_content": null,
      "align_items": null,
      "align_self": null,
      "border": null,
      "bottom": null,
      "display": null,
      "flex": null,
      "flex_flow": null,
      "grid_area": null,
      "grid_auto_columns": null,
      "grid_auto_flow": null,
      "grid_auto_rows": null,
      "grid_column": null,
      "grid_gap": null,
      "grid_row": null,
      "grid_template_areas": null,
      "grid_template_columns": null,
      "grid_template_rows": null,
      "height": null,
      "justify_content": null,
      "justify_items": null,
      "left": null,
      "margin": null,
      "max_height": null,
      "max_width": null,
      "min_height": null,
      "min_width": null,
      "object_fit": null,
      "object_position": null,
      "order": null,
      "overflow": null,
      "overflow_x": null,
      "overflow_y": null,
      "padding": null,
      "right": null,
      "top": null,
      "visibility": null,
      "width": null
     }
    },
    "59126243412c4c30bb2d2c8e74f9f0fd": {
     "model_module": "@jupyter-widgets/controls",
     "model_module_version": "1.5.0",
     "model_name": "HBoxModel",
     "state": {
      "_dom_classes": [],
      "_model_module": "@jupyter-widgets/controls",
      "_model_module_version": "1.5.0",
      "_model_name": "HBoxModel",
      "_view_count": null,
      "_view_module": "@jupyter-widgets/controls",
      "_view_module_version": "1.5.0",
      "_view_name": "HBoxView",
      "box_style": "",
      "children": [
       "IPY_MODEL_cbe9d2a86683483f944b3000b7c09896",
       "IPY_MODEL_c88e3c430ea148398f3c84e72cdf597a",
       "IPY_MODEL_be5a8751064d4e9cae34e70a580c3dc3"
      ],
      "layout": "IPY_MODEL_4f5d9ae3de004fefba9b9b41f2021291"
     }
    },
    "5cbc9ec48f7948858603264701d3f7c3": {
     "model_module": "@jupyter-widgets/base",
     "model_module_version": "1.2.0",
     "model_name": "LayoutModel",
     "state": {
      "_model_module": "@jupyter-widgets/base",
      "_model_module_version": "1.2.0",
      "_model_name": "LayoutModel",
      "_view_count": null,
      "_view_module": "@jupyter-widgets/base",
      "_view_module_version": "1.2.0",
      "_view_name": "LayoutView",
      "align_content": null,
      "align_items": null,
      "align_self": null,
      "border": null,
      "bottom": null,
      "display": null,
      "flex": null,
      "flex_flow": null,
      "grid_area": null,
      "grid_auto_columns": null,
      "grid_auto_flow": null,
      "grid_auto_rows": null,
      "grid_column": null,
      "grid_gap": null,
      "grid_row": null,
      "grid_template_areas": null,
      "grid_template_columns": null,
      "grid_template_rows": null,
      "height": null,
      "justify_content": null,
      "justify_items": null,
      "left": null,
      "margin": null,
      "max_height": null,
      "max_width": null,
      "min_height": null,
      "min_width": null,
      "object_fit": null,
      "object_position": null,
      "order": null,
      "overflow": null,
      "overflow_x": null,
      "overflow_y": null,
      "padding": null,
      "right": null,
      "top": null,
      "visibility": null,
      "width": null
     }
    },
    "5e69ced2a4d040489392b2d7fa7ce453": {
     "model_module": "@jupyter-widgets/base",
     "model_module_version": "1.2.0",
     "model_name": "LayoutModel",
     "state": {
      "_model_module": "@jupyter-widgets/base",
      "_model_module_version": "1.2.0",
      "_model_name": "LayoutModel",
      "_view_count": null,
      "_view_module": "@jupyter-widgets/base",
      "_view_module_version": "1.2.0",
      "_view_name": "LayoutView",
      "align_content": null,
      "align_items": null,
      "align_self": null,
      "border": null,
      "bottom": null,
      "display": null,
      "flex": null,
      "flex_flow": null,
      "grid_area": null,
      "grid_auto_columns": null,
      "grid_auto_flow": null,
      "grid_auto_rows": null,
      "grid_column": null,
      "grid_gap": null,
      "grid_row": null,
      "grid_template_areas": null,
      "grid_template_columns": null,
      "grid_template_rows": null,
      "height": null,
      "justify_content": null,
      "justify_items": null,
      "left": null,
      "margin": null,
      "max_height": null,
      "max_width": null,
      "min_height": null,
      "min_width": null,
      "object_fit": null,
      "object_position": null,
      "order": null,
      "overflow": null,
      "overflow_x": null,
      "overflow_y": null,
      "padding": null,
      "right": null,
      "top": null,
      "visibility": null,
      "width": null
     }
    },
    "95f78921cd7b4152836213b60f8aaed6": {
     "model_module": "@jupyter-widgets/controls",
     "model_module_version": "1.5.0",
     "model_name": "DescriptionStyleModel",
     "state": {
      "_model_module": "@jupyter-widgets/controls",
      "_model_module_version": "1.5.0",
      "_model_name": "DescriptionStyleModel",
      "_view_count": null,
      "_view_module": "@jupyter-widgets/base",
      "_view_module_version": "1.2.0",
      "_view_name": "StyleView",
      "description_width": ""
     }
    },
    "9d1ee5f45fcd45798a5511d61ba756ed": {
     "model_module": "@jupyter-widgets/controls",
     "model_module_version": "1.5.0",
     "model_name": "DescriptionStyleModel",
     "state": {
      "_model_module": "@jupyter-widgets/controls",
      "_model_module_version": "1.5.0",
      "_model_name": "DescriptionStyleModel",
      "_view_count": null,
      "_view_module": "@jupyter-widgets/base",
      "_view_module_version": "1.2.0",
      "_view_name": "StyleView",
      "description_width": ""
     }
    },
    "a664bbda74ed461ab8cc3df0d9c2b4ee": {
     "model_module": "@jupyter-widgets/base",
     "model_module_version": "1.2.0",
     "model_name": "LayoutModel",
     "state": {
      "_model_module": "@jupyter-widgets/base",
      "_model_module_version": "1.2.0",
      "_model_name": "LayoutModel",
      "_view_count": null,
      "_view_module": "@jupyter-widgets/base",
      "_view_module_version": "1.2.0",
      "_view_name": "LayoutView",
      "align_content": null,
      "align_items": null,
      "align_self": null,
      "border": null,
      "bottom": null,
      "display": null,
      "flex": null,
      "flex_flow": null,
      "grid_area": null,
      "grid_auto_columns": null,
      "grid_auto_flow": null,
      "grid_auto_rows": null,
      "grid_column": null,
      "grid_gap": null,
      "grid_row": null,
      "grid_template_areas": null,
      "grid_template_columns": null,
      "grid_template_rows": null,
      "height": null,
      "justify_content": null,
      "justify_items": null,
      "left": null,
      "margin": null,
      "max_height": null,
      "max_width": null,
      "min_height": null,
      "min_width": null,
      "object_fit": null,
      "object_position": null,
      "order": null,
      "overflow": null,
      "overflow_x": null,
      "overflow_y": null,
      "padding": null,
      "right": null,
      "top": null,
      "visibility": null,
      "width": null
     }
    },
    "be5a8751064d4e9cae34e70a580c3dc3": {
     "model_module": "@jupyter-widgets/controls",
     "model_module_version": "1.5.0",
     "model_name": "HTMLModel",
     "state": {
      "_dom_classes": [],
      "_model_module": "@jupyter-widgets/controls",
      "_model_module_version": "1.5.0",
      "_model_name": "HTMLModel",
      "_view_count": null,
      "_view_module": "@jupyter-widgets/controls",
      "_view_module_version": "1.5.0",
      "_view_name": "HTMLView",
      "description": "",
      "description_tooltip": null,
      "layout": "IPY_MODEL_a664bbda74ed461ab8cc3df0d9c2b4ee",
      "placeholder": "​",
      "style": "IPY_MODEL_95f78921cd7b4152836213b60f8aaed6",
      "value": " 5/100 [00:15&lt;04:34,  2.89s/it]"
     }
    },
    "c88e3c430ea148398f3c84e72cdf597a": {
     "model_module": "@jupyter-widgets/controls",
     "model_module_version": "1.5.0",
     "model_name": "FloatProgressModel",
     "state": {
      "_dom_classes": [],
      "_model_module": "@jupyter-widgets/controls",
      "_model_module_version": "1.5.0",
      "_model_name": "FloatProgressModel",
      "_view_count": null,
      "_view_module": "@jupyter-widgets/controls",
      "_view_module_version": "1.5.0",
      "_view_name": "ProgressView",
      "bar_style": "",
      "description": "",
      "description_tooltip": null,
      "layout": "IPY_MODEL_5cbc9ec48f7948858603264701d3f7c3",
      "max": 100,
      "min": 0,
      "orientation": "horizontal",
      "style": "IPY_MODEL_19bff2de80fe4d2e884ddd899b9820b7",
      "value": 5
     }
    },
    "cbe9d2a86683483f944b3000b7c09896": {
     "model_module": "@jupyter-widgets/controls",
     "model_module_version": "1.5.0",
     "model_name": "HTMLModel",
     "state": {
      "_dom_classes": [],
      "_model_module": "@jupyter-widgets/controls",
      "_model_module_version": "1.5.0",
      "_model_name": "HTMLModel",
      "_view_count": null,
      "_view_module": "@jupyter-widgets/controls",
      "_view_module_version": "1.5.0",
      "_view_name": "HTMLView",
      "description": "",
      "description_tooltip": null,
      "layout": "IPY_MODEL_5e69ced2a4d040489392b2d7fa7ce453",
      "placeholder": "​",
      "style": "IPY_MODEL_9d1ee5f45fcd45798a5511d61ba756ed",
      "value": "  5%"
     }
    }
   }
  }
 },
 "nbformat": 4,
 "nbformat_minor": 1
}
