{
  "nbformat": 4,
  "nbformat_minor": 0,
  "metadata": {
    "colab": {
      "provenance": []
    },
    "kernelspec": {
      "name": "python3",
      "display_name": "Python 3"
    },
    "language_info": {
      "name": "python"
    },
    "gpuClass": "standard",
    "widgets": {
      "application/vnd.jupyter.widget-state+json": {
        "6ceee88a4d9b4c88bfc37938bb8d8cfa": {
          "model_module": "@jupyter-widgets/controls",
          "model_name": "HBoxModel",
          "model_module_version": "1.5.0",
          "state": {
            "_dom_classes": [],
            "_model_module": "@jupyter-widgets/controls",
            "_model_module_version": "1.5.0",
            "_model_name": "HBoxModel",
            "_view_count": null,
            "_view_module": "@jupyter-widgets/controls",
            "_view_module_version": "1.5.0",
            "_view_name": "HBoxView",
            "box_style": "",
            "children": [
              "IPY_MODEL_b21f613ad18a4617bb1387cfc9cd8e12",
              "IPY_MODEL_e425faaf81594c82acccb2bf309c7cd0",
              "IPY_MODEL_aa8795d021e847c98df96e54e99839e2"
            ],
            "layout": "IPY_MODEL_539a8367061b448a91241b9b910af601"
          }
        },
        "b21f613ad18a4617bb1387cfc9cd8e12": {
          "model_module": "@jupyter-widgets/controls",
          "model_name": "HTMLModel",
          "model_module_version": "1.5.0",
          "state": {
            "_dom_classes": [],
            "_model_module": "@jupyter-widgets/controls",
            "_model_module_version": "1.5.0",
            "_model_name": "HTMLModel",
            "_view_count": null,
            "_view_module": "@jupyter-widgets/controls",
            "_view_module_version": "1.5.0",
            "_view_name": "HTMLView",
            "description": "",
            "description_tooltip": null,
            "layout": "IPY_MODEL_58d513482ec24c4e989563135a437521",
            "placeholder": "​",
            "style": "IPY_MODEL_d4b1f75b4e7145a582f4c8412563030d",
            "value": "100%"
          }
        },
        "e425faaf81594c82acccb2bf309c7cd0": {
          "model_module": "@jupyter-widgets/controls",
          "model_name": "FloatProgressModel",
          "model_module_version": "1.5.0",
          "state": {
            "_dom_classes": [],
            "_model_module": "@jupyter-widgets/controls",
            "_model_module_version": "1.5.0",
            "_model_name": "FloatProgressModel",
            "_view_count": null,
            "_view_module": "@jupyter-widgets/controls",
            "_view_module_version": "1.5.0",
            "_view_name": "ProgressView",
            "bar_style": "success",
            "description": "",
            "description_tooltip": null,
            "layout": "IPY_MODEL_c5aa8b3c6d984e2e8bce24485ae40b8d",
            "max": 10,
            "min": 0,
            "orientation": "horizontal",
            "style": "IPY_MODEL_b108c3afb62f4383870efdf94acd87f6",
            "value": 10
          }
        },
        "aa8795d021e847c98df96e54e99839e2": {
          "model_module": "@jupyter-widgets/controls",
          "model_name": "HTMLModel",
          "model_module_version": "1.5.0",
          "state": {
            "_dom_classes": [],
            "_model_module": "@jupyter-widgets/controls",
            "_model_module_version": "1.5.0",
            "_model_name": "HTMLModel",
            "_view_count": null,
            "_view_module": "@jupyter-widgets/controls",
            "_view_module_version": "1.5.0",
            "_view_name": "HTMLView",
            "description": "",
            "description_tooltip": null,
            "layout": "IPY_MODEL_463c4025ad4c4a6881f3ae48e0c12102",
            "placeholder": "​",
            "style": "IPY_MODEL_685805affee548f4afaa66ae86c7cca0",
            "value": " 10/10 [01:36&lt;00:00,  9.44s/it]"
          }
        },
        "539a8367061b448a91241b9b910af601": {
          "model_module": "@jupyter-widgets/base",
          "model_name": "LayoutModel",
          "model_module_version": "1.2.0",
          "state": {
            "_model_module": "@jupyter-widgets/base",
            "_model_module_version": "1.2.0",
            "_model_name": "LayoutModel",
            "_view_count": null,
            "_view_module": "@jupyter-widgets/base",
            "_view_module_version": "1.2.0",
            "_view_name": "LayoutView",
            "align_content": null,
            "align_items": null,
            "align_self": null,
            "border": null,
            "bottom": null,
            "display": null,
            "flex": null,
            "flex_flow": null,
            "grid_area": null,
            "grid_auto_columns": null,
            "grid_auto_flow": null,
            "grid_auto_rows": null,
            "grid_column": null,
            "grid_gap": null,
            "grid_row": null,
            "grid_template_areas": null,
            "grid_template_columns": null,
            "grid_template_rows": null,
            "height": null,
            "justify_content": null,
            "justify_items": null,
            "left": null,
            "margin": null,
            "max_height": null,
            "max_width": null,
            "min_height": null,
            "min_width": null,
            "object_fit": null,
            "object_position": null,
            "order": null,
            "overflow": null,
            "overflow_x": null,
            "overflow_y": null,
            "padding": null,
            "right": null,
            "top": null,
            "visibility": null,
            "width": null
          }
        },
        "58d513482ec24c4e989563135a437521": {
          "model_module": "@jupyter-widgets/base",
          "model_name": "LayoutModel",
          "model_module_version": "1.2.0",
          "state": {
            "_model_module": "@jupyter-widgets/base",
            "_model_module_version": "1.2.0",
            "_model_name": "LayoutModel",
            "_view_count": null,
            "_view_module": "@jupyter-widgets/base",
            "_view_module_version": "1.2.0",
            "_view_name": "LayoutView",
            "align_content": null,
            "align_items": null,
            "align_self": null,
            "border": null,
            "bottom": null,
            "display": null,
            "flex": null,
            "flex_flow": null,
            "grid_area": null,
            "grid_auto_columns": null,
            "grid_auto_flow": null,
            "grid_auto_rows": null,
            "grid_column": null,
            "grid_gap": null,
            "grid_row": null,
            "grid_template_areas": null,
            "grid_template_columns": null,
            "grid_template_rows": null,
            "height": null,
            "justify_content": null,
            "justify_items": null,
            "left": null,
            "margin": null,
            "max_height": null,
            "max_width": null,
            "min_height": null,
            "min_width": null,
            "object_fit": null,
            "object_position": null,
            "order": null,
            "overflow": null,
            "overflow_x": null,
            "overflow_y": null,
            "padding": null,
            "right": null,
            "top": null,
            "visibility": null,
            "width": null
          }
        },
        "d4b1f75b4e7145a582f4c8412563030d": {
          "model_module": "@jupyter-widgets/controls",
          "model_name": "DescriptionStyleModel",
          "model_module_version": "1.5.0",
          "state": {
            "_model_module": "@jupyter-widgets/controls",
            "_model_module_version": "1.5.0",
            "_model_name": "DescriptionStyleModel",
            "_view_count": null,
            "_view_module": "@jupyter-widgets/base",
            "_view_module_version": "1.2.0",
            "_view_name": "StyleView",
            "description_width": ""
          }
        },
        "c5aa8b3c6d984e2e8bce24485ae40b8d": {
          "model_module": "@jupyter-widgets/base",
          "model_name": "LayoutModel",
          "model_module_version": "1.2.0",
          "state": {
            "_model_module": "@jupyter-widgets/base",
            "_model_module_version": "1.2.0",
            "_model_name": "LayoutModel",
            "_view_count": null,
            "_view_module": "@jupyter-widgets/base",
            "_view_module_version": "1.2.0",
            "_view_name": "LayoutView",
            "align_content": null,
            "align_items": null,
            "align_self": null,
            "border": null,
            "bottom": null,
            "display": null,
            "flex": null,
            "flex_flow": null,
            "grid_area": null,
            "grid_auto_columns": null,
            "grid_auto_flow": null,
            "grid_auto_rows": null,
            "grid_column": null,
            "grid_gap": null,
            "grid_row": null,
            "grid_template_areas": null,
            "grid_template_columns": null,
            "grid_template_rows": null,
            "height": null,
            "justify_content": null,
            "justify_items": null,
            "left": null,
            "margin": null,
            "max_height": null,
            "max_width": null,
            "min_height": null,
            "min_width": null,
            "object_fit": null,
            "object_position": null,
            "order": null,
            "overflow": null,
            "overflow_x": null,
            "overflow_y": null,
            "padding": null,
            "right": null,
            "top": null,
            "visibility": null,
            "width": null
          }
        },
        "b108c3afb62f4383870efdf94acd87f6": {
          "model_module": "@jupyter-widgets/controls",
          "model_name": "ProgressStyleModel",
          "model_module_version": "1.5.0",
          "state": {
            "_model_module": "@jupyter-widgets/controls",
            "_model_module_version": "1.5.0",
            "_model_name": "ProgressStyleModel",
            "_view_count": null,
            "_view_module": "@jupyter-widgets/base",
            "_view_module_version": "1.2.0",
            "_view_name": "StyleView",
            "bar_color": null,
            "description_width": ""
          }
        },
        "463c4025ad4c4a6881f3ae48e0c12102": {
          "model_module": "@jupyter-widgets/base",
          "model_name": "LayoutModel",
          "model_module_version": "1.2.0",
          "state": {
            "_model_module": "@jupyter-widgets/base",
            "_model_module_version": "1.2.0",
            "_model_name": "LayoutModel",
            "_view_count": null,
            "_view_module": "@jupyter-widgets/base",
            "_view_module_version": "1.2.0",
            "_view_name": "LayoutView",
            "align_content": null,
            "align_items": null,
            "align_self": null,
            "border": null,
            "bottom": null,
            "display": null,
            "flex": null,
            "flex_flow": null,
            "grid_area": null,
            "grid_auto_columns": null,
            "grid_auto_flow": null,
            "grid_auto_rows": null,
            "grid_column": null,
            "grid_gap": null,
            "grid_row": null,
            "grid_template_areas": null,
            "grid_template_columns": null,
            "grid_template_rows": null,
            "height": null,
            "justify_content": null,
            "justify_items": null,
            "left": null,
            "margin": null,
            "max_height": null,
            "max_width": null,
            "min_height": null,
            "min_width": null,
            "object_fit": null,
            "object_position": null,
            "order": null,
            "overflow": null,
            "overflow_x": null,
            "overflow_y": null,
            "padding": null,
            "right": null,
            "top": null,
            "visibility": null,
            "width": null
          }
        },
        "685805affee548f4afaa66ae86c7cca0": {
          "model_module": "@jupyter-widgets/controls",
          "model_name": "DescriptionStyleModel",
          "model_module_version": "1.5.0",
          "state": {
            "_model_module": "@jupyter-widgets/controls",
            "_model_module_version": "1.5.0",
            "_model_name": "DescriptionStyleModel",
            "_view_count": null,
            "_view_module": "@jupyter-widgets/base",
            "_view_module_version": "1.2.0",
            "_view_name": "StyleView",
            "description_width": ""
          }
        }
      }
    }
  },
  "cells": [
    {
      "cell_type": "markdown",
      "source": [
        "Необходимо решить задачу классификации для определения направления движения экзоскелета."
      ],
      "metadata": {
        "id": "UBO2i4oLcuXR"
      }
    },
    {
      "cell_type": "code",
      "execution_count": 1,
      "metadata": {
        "id": "q_gxgVNpJzNe"
      },
      "outputs": [],
      "source": [
        "import pandas as pd\n",
        "import numpy as np\n",
        "\n",
        "from sklearn.model_selection import train_test_split\n",
        "\n",
        "import torch\n",
        "import time\n",
        "import torch.nn as nn\n",
        "import torch.nn.functional as F\n",
        "from torch.utils.data import Dataset, DataLoader, TensorDataset\n",
        "import tqdm\n",
        "import seaborn as sns\n",
        "import matplotlib.pyplot as plt\n"
      ]
    },
    {
      "cell_type": "code",
      "source": [
        "col_names = ['time', 'emg_1', 'emg_2', 'emg_3', 'emg_4', 'emg_5', 'emg_6', 'pot_1', 'pot_2', 'pot_3']\n",
        "data_ = pd.read_csv('/content/drive/MyDrive/Vlad_data.csv', sep=';', header=None, names=col_names)"
      ],
      "metadata": {
        "id": "yIhGOv59Jz9W"
      },
      "execution_count": 2,
      "outputs": []
    },
    {
      "cell_type": "markdown",
      "source": [
        "Датасет состоит из набора ЭМГ сигналов с 6 датчиков и набора сигналов с датчиков положения с 3 датчиков. Для классификации используются стобцы emg_1 и emg_6, остальные ЭМГ являются шумом."
      ],
      "metadata": {
        "id": "CirhsJHDc8_d"
      }
    },
    {
      "cell_type": "code",
      "source": [
        "data_.head()"
      ],
      "metadata": {
        "colab": {
          "base_uri": "https://localhost:8080/",
          "height": 206
        },
        "id": "2nvO6VLMKhwd",
        "outputId": "e4445e6c-997d-4105-9906-32c892bafe2c"
      },
      "execution_count": 15,
      "outputs": [
        {
          "output_type": "execute_result",
          "data": {
            "text/plain": [
              "      emg_1     emg_2     emg_3     emg_4     emg_5     emg_6     pot_1  \\\n",
              "0 -3.333027 -0.290417 -0.290417 -0.290417 -0.290417 -0.295146 -5.672133   \n",
              "1 -0.290355 -0.290417 -0.290417 -0.290417 -0.290417 -0.295146 -5.598286   \n",
              "2 -0.290355 -0.290417 -0.290417 -0.290417 -0.290417 -0.295146 -5.524994   \n",
              "3  0.144798  0.144767  0.144767  0.144767  0.144767 -0.295146 -5.452256   \n",
              "4  0.144798  0.144767  0.144767  0.144767  0.144767 -0.295146 -5.380073   \n",
              "\n",
              "      pot_2      pot_3  \n",
              "0  0.674031 -20.165807  \n",
              "1  0.505117 -17.443197  \n",
              "2  0.336202 -15.004191  \n",
              "3  0.448812 -12.792070  \n",
              "4  0.279898 -10.806833  "
            ],
            "text/html": [
              "\n",
              "  <div id=\"df-5fe42335-fd03-489f-8650-a63e9b9f1ae5\">\n",
              "    <div class=\"colab-df-container\">\n",
              "      <div>\n",
              "<style scoped>\n",
              "    .dataframe tbody tr th:only-of-type {\n",
              "        vertical-align: middle;\n",
              "    }\n",
              "\n",
              "    .dataframe tbody tr th {\n",
              "        vertical-align: top;\n",
              "    }\n",
              "\n",
              "    .dataframe thead th {\n",
              "        text-align: right;\n",
              "    }\n",
              "</style>\n",
              "<table border=\"1\" class=\"dataframe\">\n",
              "  <thead>\n",
              "    <tr style=\"text-align: right;\">\n",
              "      <th></th>\n",
              "      <th>emg_1</th>\n",
              "      <th>emg_2</th>\n",
              "      <th>emg_3</th>\n",
              "      <th>emg_4</th>\n",
              "      <th>emg_5</th>\n",
              "      <th>emg_6</th>\n",
              "      <th>pot_1</th>\n",
              "      <th>pot_2</th>\n",
              "      <th>pot_3</th>\n",
              "    </tr>\n",
              "  </thead>\n",
              "  <tbody>\n",
              "    <tr>\n",
              "      <th>0</th>\n",
              "      <td>-3.333027</td>\n",
              "      <td>-0.290417</td>\n",
              "      <td>-0.290417</td>\n",
              "      <td>-0.290417</td>\n",
              "      <td>-0.290417</td>\n",
              "      <td>-0.295146</td>\n",
              "      <td>-5.672133</td>\n",
              "      <td>0.674031</td>\n",
              "      <td>-20.165807</td>\n",
              "    </tr>\n",
              "    <tr>\n",
              "      <th>1</th>\n",
              "      <td>-0.290355</td>\n",
              "      <td>-0.290417</td>\n",
              "      <td>-0.290417</td>\n",
              "      <td>-0.290417</td>\n",
              "      <td>-0.290417</td>\n",
              "      <td>-0.295146</td>\n",
              "      <td>-5.598286</td>\n",
              "      <td>0.505117</td>\n",
              "      <td>-17.443197</td>\n",
              "    </tr>\n",
              "    <tr>\n",
              "      <th>2</th>\n",
              "      <td>-0.290355</td>\n",
              "      <td>-0.290417</td>\n",
              "      <td>-0.290417</td>\n",
              "      <td>-0.290417</td>\n",
              "      <td>-0.290417</td>\n",
              "      <td>-0.295146</td>\n",
              "      <td>-5.524994</td>\n",
              "      <td>0.336202</td>\n",
              "      <td>-15.004191</td>\n",
              "    </tr>\n",
              "    <tr>\n",
              "      <th>3</th>\n",
              "      <td>0.144798</td>\n",
              "      <td>0.144767</td>\n",
              "      <td>0.144767</td>\n",
              "      <td>0.144767</td>\n",
              "      <td>0.144767</td>\n",
              "      <td>-0.295146</td>\n",
              "      <td>-5.452256</td>\n",
              "      <td>0.448812</td>\n",
              "      <td>-12.792070</td>\n",
              "    </tr>\n",
              "    <tr>\n",
              "      <th>4</th>\n",
              "      <td>0.144798</td>\n",
              "      <td>0.144767</td>\n",
              "      <td>0.144767</td>\n",
              "      <td>0.144767</td>\n",
              "      <td>0.144767</td>\n",
              "      <td>-0.295146</td>\n",
              "      <td>-5.380073</td>\n",
              "      <td>0.279898</td>\n",
              "      <td>-10.806833</td>\n",
              "    </tr>\n",
              "  </tbody>\n",
              "</table>\n",
              "</div>\n",
              "      <button class=\"colab-df-convert\" onclick=\"convertToInteractive('df-5fe42335-fd03-489f-8650-a63e9b9f1ae5')\"\n",
              "              title=\"Convert this dataframe to an interactive table.\"\n",
              "              style=\"display:none;\">\n",
              "        \n",
              "  <svg xmlns=\"http://www.w3.org/2000/svg\" height=\"24px\"viewBox=\"0 0 24 24\"\n",
              "       width=\"24px\">\n",
              "    <path d=\"M0 0h24v24H0V0z\" fill=\"none\"/>\n",
              "    <path d=\"M18.56 5.44l.94 2.06.94-2.06 2.06-.94-2.06-.94-.94-2.06-.94 2.06-2.06.94zm-11 1L8.5 8.5l.94-2.06 2.06-.94-2.06-.94L8.5 2.5l-.94 2.06-2.06.94zm10 10l.94 2.06.94-2.06 2.06-.94-2.06-.94-.94-2.06-.94 2.06-2.06.94z\"/><path d=\"M17.41 7.96l-1.37-1.37c-.4-.4-.92-.59-1.43-.59-.52 0-1.04.2-1.43.59L10.3 9.45l-7.72 7.72c-.78.78-.78 2.05 0 2.83L4 21.41c.39.39.9.59 1.41.59.51 0 1.02-.2 1.41-.59l7.78-7.78 2.81-2.81c.8-.78.8-2.07 0-2.86zM5.41 20L4 18.59l7.72-7.72 1.47 1.35L5.41 20z\"/>\n",
              "  </svg>\n",
              "      </button>\n",
              "      \n",
              "  <style>\n",
              "    .colab-df-container {\n",
              "      display:flex;\n",
              "      flex-wrap:wrap;\n",
              "      gap: 12px;\n",
              "    }\n",
              "\n",
              "    .colab-df-convert {\n",
              "      background-color: #E8F0FE;\n",
              "      border: none;\n",
              "      border-radius: 50%;\n",
              "      cursor: pointer;\n",
              "      display: none;\n",
              "      fill: #1967D2;\n",
              "      height: 32px;\n",
              "      padding: 0 0 0 0;\n",
              "      width: 32px;\n",
              "    }\n",
              "\n",
              "    .colab-df-convert:hover {\n",
              "      background-color: #E2EBFA;\n",
              "      box-shadow: 0px 1px 2px rgba(60, 64, 67, 0.3), 0px 1px 3px 1px rgba(60, 64, 67, 0.15);\n",
              "      fill: #174EA6;\n",
              "    }\n",
              "\n",
              "    [theme=dark] .colab-df-convert {\n",
              "      background-color: #3B4455;\n",
              "      fill: #D2E3FC;\n",
              "    }\n",
              "\n",
              "    [theme=dark] .colab-df-convert:hover {\n",
              "      background-color: #434B5C;\n",
              "      box-shadow: 0px 1px 3px 1px rgba(0, 0, 0, 0.15);\n",
              "      filter: drop-shadow(0px 1px 2px rgba(0, 0, 0, 0.3));\n",
              "      fill: #FFFFFF;\n",
              "    }\n",
              "  </style>\n",
              "\n",
              "      <script>\n",
              "        const buttonEl =\n",
              "          document.querySelector('#df-5fe42335-fd03-489f-8650-a63e9b9f1ae5 button.colab-df-convert');\n",
              "        buttonEl.style.display =\n",
              "          google.colab.kernel.accessAllowed ? 'block' : 'none';\n",
              "\n",
              "        async function convertToInteractive(key) {\n",
              "          const element = document.querySelector('#df-5fe42335-fd03-489f-8650-a63e9b9f1ae5');\n",
              "          const dataTable =\n",
              "            await google.colab.kernel.invokeFunction('convertToInteractive',\n",
              "                                                     [key], {});\n",
              "          if (!dataTable) return;\n",
              "\n",
              "          const docLinkHtml = 'Like what you see? Visit the ' +\n",
              "            '<a target=\"_blank\" href=https://colab.research.google.com/notebooks/data_table.ipynb>data table notebook</a>'\n",
              "            + ' to learn more about interactive tables.';\n",
              "          element.innerHTML = '';\n",
              "          dataTable['output_type'] = 'display_data';\n",
              "          await google.colab.output.renderOutput(dataTable, element);\n",
              "          const docLink = document.createElement('div');\n",
              "          docLink.innerHTML = docLinkHtml;\n",
              "          element.appendChild(docLink);\n",
              "        }\n",
              "      </script>\n",
              "    </div>\n",
              "  </div>\n",
              "  "
            ]
          },
          "metadata": {},
          "execution_count": 15
        }
      ]
    },
    {
      "cell_type": "markdown",
      "source": [
        "Убираем столбец со временем, так как его не используем:"
      ],
      "metadata": {
        "id": "kRRBzHkGdT-P"
      }
    },
    {
      "cell_type": "code",
      "source": [
        "data_ = data_.drop('time', axis=1)"
      ],
      "metadata": {
        "id": "ofKU6HzjLxTP"
      },
      "execution_count": 4,
      "outputs": []
    },
    {
      "cell_type": "markdown",
      "source": [
        "Нормализация сигналов:"
      ],
      "metadata": {
        "id": "Q8anjjk2dY3y"
      }
    },
    {
      "cell_type": "code",
      "source": [
        "mean = data_.mean()\n",
        "std = data_.std()\n",
        "data_ = (data_ - mean) / std"
      ],
      "metadata": {
        "id": "95Hm3aCASqJU"
      },
      "execution_count": 5,
      "outputs": []
    },
    {
      "cell_type": "code",
      "source": [
        "len(data_)"
      ],
      "metadata": {
        "colab": {
          "base_uri": "https://localhost:8080/"
        },
        "id": "aPxu0BLYBPgI",
        "outputId": "eb721fef-ac32-4cee-9bf4-37c0653d47f0"
      },
      "execution_count": 6,
      "outputs": [
        {
          "output_type": "execute_result",
          "data": {
            "text/plain": [
              "154751"
            ]
          },
          "metadata": {},
          "execution_count": 6
        }
      ]
    },
    {
      "cell_type": "markdown",
      "source": [
        "Проверка времени выполнения Savitzky–Golay filter для сглаживания сигналов положения руки:"
      ],
      "metadata": {
        "id": "xkiBmndheJe6"
      }
    },
    {
      "cell_type": "code",
      "source": [
        "from scipy.signal import savgol_filter, cwt, ricker\n",
        "%time\n",
        "savgol_filter(data_['pot_1'], 5, 2)"
      ],
      "metadata": {
        "colab": {
          "base_uri": "https://localhost:8080/"
        },
        "id": "0m2zW0kMGAXS",
        "outputId": "a64e5d8e-2b17-4649-9bc0-26938e22a1ba"
      },
      "execution_count": 8,
      "outputs": [
        {
          "output_type": "stream",
          "name": "stdout",
          "text": [
            "CPU times: user 3 µs, sys: 0 ns, total: 3 µs\n",
            "Wall time: 7.15 µs\n"
          ]
        },
        {
          "output_type": "execute_result",
          "data": {
            "text/plain": [
              "array([-14.90777074, -13.54389442, -12.30480165, ...,   0.48352586,\n",
              "         0.48352586,   0.48352586])"
            ]
          },
          "metadata": {},
          "execution_count": 8
        }
      ]
    },
    {
      "cell_type": "markdown",
      "source": [
        "Проверка применимости вейвлет-преобразования для ЭМГ-сигналов:"
      ],
      "metadata": {
        "id": "MKBdIbyLdxK9"
      }
    },
    {
      "cell_type": "code",
      "source": [
        "a = cwt(data=data_['emg_1'], wavelet=ricker, widths=np.arange(1, 30))"
      ],
      "metadata": {
        "id": "4ogyx351687-"
      },
      "execution_count": 9,
      "outputs": []
    },
    {
      "cell_type": "code",
      "source": [
        "plt.plot(a[-1][1000:2000])"
      ],
      "metadata": {
        "colab": {
          "base_uri": "https://localhost:8080/",
          "height": 283
        },
        "id": "Zv83FhLhY0Fr",
        "outputId": "fd30b409-2c92-4129-c81d-e8e01f2f8347"
      },
      "execution_count": 10,
      "outputs": [
        {
          "output_type": "execute_result",
          "data": {
            "text/plain": [
              "[<matplotlib.lines.Line2D at 0x7fd0f2040b50>]"
            ]
          },
          "metadata": {},
          "execution_count": 10
        },
        {
          "output_type": "display_data",
          "data": {
            "text/plain": [
              "<Figure size 432x288 with 1 Axes>"
            ],
            "image/png": "[encoded data removed]"
          },
          "metadata": {
            "needs_background": "light"
          }
        }
      ]
    },
    {
      "cell_type": "markdown",
      "source": [
        "Применение фильтра для сигналов положения:"
      ],
      "metadata": {
        "id": "nLlyLhwCd_5o"
      }
    },
    {
      "cell_type": "code",
      "source": [
        "data_['pot_1'] = savgol_filter(data_['pot_1'], 201, 2)"
      ],
      "metadata": {
        "id": "yUDg1mVEGJH_"
      },
      "execution_count": 13,
      "outputs": []
    },
    {
      "cell_type": "code",
      "source": [
        "plt.plot(data_['emg_1'][1000:2000])"
      ],
      "metadata": {
        "colab": {
          "base_uri": "https://localhost:8080/",
          "height": 283
        },
        "id": "MNfa-ejIWIAr",
        "outputId": "5c46f202-904a-45e6-fbfb-c694b12fa05c"
      },
      "execution_count": 14,
      "outputs": [
        {
          "output_type": "execute_result",
          "data": {
            "text/plain": [
              "[<matplotlib.lines.Line2D at 0x7fd0f1b02cd0>]"
            ]
          },
          "metadata": {},
          "execution_count": 14
        },
        {
          "output_type": "display_data",
          "data": {
            "text/plain": [
              "<Figure size 432x288 with 1 Axes>"
            ],
            "image/png": "[encoded data removed]"
          },
          "metadata": {
            "needs_background": "light"
          }
        }
      ]
    },
    {
      "cell_type": "markdown",
      "source": [
        "Применение вейвлет-преобразования для ЭМГ-сигналов:"
      ],
      "metadata": {
        "id": "wwjJ-XKCeiYm"
      }
    },
    {
      "cell_type": "code",
      "source": [
        "# data_['emg_1_new'] = savgol_filter(data_['emg_1'], 201, 2)\n",
        "# data_['emg_6_new'] = savgol_filter(data_['emg_6'], 201, 2)\n",
        "data_['emg_1_new'] = cwt(data=data_['emg_1'], wavelet=ricker, widths=np.arange(1, 30))[-1]\n",
        "data_['emg_6_new'] = cwt(data=data_['emg_6'], wavelet=ricker, widths=np.arange(1, 30))[-1]"
      ],
      "metadata": {
        "id": "_mB9fjhuWtbP"
      },
      "execution_count": 16,
      "outputs": []
    },
    {
      "cell_type": "code",
      "source": [
        "plt.plot(data_['emg_6_new'][1000:2000])"
      ],
      "metadata": {
        "colab": {
          "base_uri": "https://localhost:8080/",
          "height": 283
        },
        "id": "u4ikJjwFWU21",
        "outputId": "da8b8760-83e5-4d1c-addf-8a019bc89533"
      },
      "execution_count": 17,
      "outputs": [
        {
          "output_type": "execute_result",
          "data": {
            "text/plain": [
              "[<matplotlib.lines.Line2D at 0x7fd0f1a63790>]"
            ]
          },
          "metadata": {},
          "execution_count": 17
        },
        {
          "output_type": "display_data",
          "data": {
            "text/plain": [
              "<Figure size 432x288 with 1 Axes>"
            ],
            "image/png": "[encoded data removed]"
          },
          "metadata": {
            "needs_background": "light"
          }
        }
      ]
    },
    {
      "cell_type": "markdown",
      "source": [
        "Вычисление прозводной, которую и необходимо предсказать. Используется разностная схема на 6 точках, далее применяется аналог функции sign: "
      ],
      "metadata": {
        "id": "uNkXbOJde4Ih"
      }
    },
    {
      "cell_type": "code",
      "source": [
        "grad = []\n",
        "for i in range(3, len(data_) - 3):\n",
        "    grad.append((-data_['pot_1'][i - 3] + 9*data_['pot_1'][i - 2] - 45*data_['pot_1'][i - 1] + 45*data_['pot_1'][i + 1] - 9*data_['pot_1'][i + 2] + data_['pot_1'][i + 3]) / 60)\n",
        "print(len(grad))"
      ],
      "metadata": {
        "colab": {
          "base_uri": "https://localhost:8080/"
        },
        "id": "mCsp-qvmBjos",
        "outputId": "497b0233-abc1-4809-ddfc-2f34ea4d81fb"
      },
      "execution_count": 18,
      "outputs": [
        {
          "output_type": "stream",
          "name": "stdout",
          "text": [
            "154745\n"
          ]
        }
      ]
    },
    {
      "cell_type": "code",
      "source": [
        "plt.plot(grad[3000:3100])"
      ],
      "metadata": {
        "colab": {
          "base_uri": "https://localhost:8080/",
          "height": 283
        },
        "id": "9Sdtk64rHz5s",
        "outputId": "e5af827c-2cc6-4455-8263-b3a93724c32e"
      },
      "execution_count": 19,
      "outputs": [
        {
          "output_type": "execute_result",
          "data": {
            "text/plain": [
              "[<matplotlib.lines.Line2D at 0x7fd0f150d4c0>]"
            ]
          },
          "metadata": {},
          "execution_count": 19
        },
        {
          "output_type": "display_data",
          "data": {
            "text/plain": [
              "<Figure size 432x288 with 1 Axes>"
            ],
            "image/png": "[encoded data removed]"
          },
          "metadata": {
            "needs_background": "light"
          }
        }
      ]
    },
    {
      "cell_type": "code",
      "source": [
        "grad.extend([0] * 6)"
      ],
      "metadata": {
        "id": "HkZyn6nmGupI"
      },
      "execution_count": 20,
      "outputs": []
    },
    {
      "cell_type": "code",
      "source": [
        "my_sign = []\n",
        "eps = 0.0003\n",
        "for i in range(len(grad)):\n",
        "    if -eps < grad[i] < eps:\n",
        "        my_sign.append(0)\n",
        "    elif grad[i] > eps:\n",
        "        my_sign.append(1)\n",
        "    else:\n",
        "        my_sign.append(2)"
      ],
      "metadata": {
        "id": "D91fJ37VHohn"
      },
      "execution_count": 21,
      "outputs": []
    },
    {
      "cell_type": "code",
      "source": [
        "data_['grad'] = my_sign"
      ],
      "metadata": {
        "id": "xK3BMWQgGyio"
      },
      "execution_count": 22,
      "outputs": []
    },
    {
      "cell_type": "code",
      "source": [
        "plt.plot(data_['grad'][3200:4000])"
      ],
      "metadata": {
        "colab": {
          "base_uri": "https://localhost:8080/",
          "height": 283
        },
        "id": "yA1qi80SDHvs",
        "outputId": "b235ac1f-a3ae-41b6-84c8-557b8c6922b3"
      },
      "execution_count": 23,
      "outputs": [
        {
          "output_type": "execute_result",
          "data": {
            "text/plain": [
              "[<matplotlib.lines.Line2D at 0x7fd0f14e4730>]"
            ]
          },
          "metadata": {},
          "execution_count": 23
        },
        {
          "output_type": "display_data",
          "data": {
            "text/plain": [
              "<Figure size 432x288 with 1 Axes>"
            ],
            "image/png": "[encoded data removed]"
          },
          "metadata": {
            "needs_background": "light"
          }
        }
      ]
    },
    {
      "cell_type": "code",
      "source": [
        "plt.plot(data_['pot_1'][120000:120100])"
      ],
      "metadata": {
        "colab": {
          "base_uri": "https://localhost:8080/",
          "height": 283
        },
        "id": "MQCxZdWLEMjT",
        "outputId": "74c574b2-c05b-4bea-ff8c-815ab1620e3c"
      },
      "execution_count": 24,
      "outputs": [
        {
          "output_type": "execute_result",
          "data": {
            "text/plain": [
              "[<matplotlib.lines.Line2D at 0x7fd0f1444910>]"
            ]
          },
          "metadata": {},
          "execution_count": 24
        },
        {
          "output_type": "display_data",
          "data": {
            "text/plain": [
              "<Figure size 432x288 with 1 Axes>"
            ],
            "image/png": "[encoded data removed]"
          },
          "metadata": {
            "needs_background": "light"
          }
        }
      ]
    },
    {
      "cell_type": "markdown",
      "source": [
        "Распределение целевой переменной:"
      ],
      "metadata": {
        "id": "c13IrtVzfe-F"
      }
    },
    {
      "cell_type": "code",
      "source": [
        "data_['grad'].value_counts()"
      ],
      "metadata": {
        "colab": {
          "base_uri": "https://localhost:8080/"
        },
        "id": "CR85lOFK4Pnp",
        "outputId": "80a8418f-1781-42e9-c76a-ab925c046463"
      },
      "execution_count": 25,
      "outputs": [
        {
          "output_type": "execute_result",
          "data": {
            "text/plain": [
              "2    65154\n",
              "1    57405\n",
              "0    32192\n",
              "Name: grad, dtype: int64"
            ]
          },
          "metadata": {},
          "execution_count": 25
        }
      ]
    },
    {
      "cell_type": "code",
      "source": [
        "data_"
      ],
      "metadata": {
        "colab": {
          "base_uri": "https://localhost:8080/",
          "height": 424
        },
        "id": "K0nEH0OqLOnm",
        "outputId": "18667027-879c-4faa-fbd8-354846eb6e65"
      },
      "execution_count": 26,
      "outputs": [
        {
          "output_type": "execute_result",
          "data": {
            "text/plain": [
              "           emg_1     emg_2     emg_3     emg_4     emg_5     emg_6     pot_1  \\\n",
              "0      -3.333027 -0.290417 -0.290417 -0.290417 -0.290417 -0.295146 -5.672133   \n",
              "1      -0.290355 -0.290417 -0.290417 -0.290417 -0.290417 -0.295146 -5.598286   \n",
              "2      -0.290355 -0.290417 -0.290417 -0.290417 -0.290417 -0.295146 -5.524994   \n",
              "3       0.144798  0.144767  0.144767  0.144767  0.144767 -0.295146 -5.452256   \n",
              "4       0.144798  0.144767  0.144767  0.144767  0.144767 -0.295146 -5.380073   \n",
              "...          ...       ...       ...       ...       ...       ...       ...   \n",
              "154746 -0.290355 -0.290417 -0.290417 -0.290417 -0.290417  0.440738  0.485050   \n",
              "154747  0.144798  0.144767  0.144767  0.144767  0.144767  0.440738  0.484969   \n",
              "154748  0.144798  0.144767  0.144767  0.144767  0.144767  0.440738  0.484889   \n",
              "154749  0.579951  0.579950  0.579950  0.579950  0.579950  0.440738  0.484810   \n",
              "154750  0.144798  0.144767  0.144767  0.144767  0.144767  0.440738  0.484731   \n",
              "\n",
              "           pot_2      pot_3  emg_1_new  emg_6_new  grad  \n",
              "0       0.674031 -20.165807  -0.599779  -0.029890     1  \n",
              "1       0.505117 -17.443197  -0.581732  -0.070058     1  \n",
              "2       0.336202 -15.004191  -0.561629  -0.109813     1  \n",
              "3       0.448812 -12.792070  -0.539558  -0.149012     1  \n",
              "4       0.279898 -10.806833  -0.515616  -0.187520     1  \n",
              "...          ...        ...        ...        ...   ...  \n",
              "154746  1.462297   0.991146  -0.109193   0.109317     0  \n",
              "154747  1.518602   0.991146  -0.100555   0.088617     0  \n",
              "154748  1.631211   0.991146  -0.091503   0.066898     0  \n",
              "154749  1.462297   0.991146  -0.082096   0.044212     0  \n",
              "154750  1.462297   0.991146  -0.072382   0.020588     0  \n",
              "\n",
              "[154751 rows x 12 columns]"
            ],
            "text/html": [
              "\n",
              "  <div id=\"df-8946b9a0-1df2-4787-925a-cacfe84413fe\">\n",
              "    <div class=\"colab-df-container\">\n",
              "      <div>\n",
              "<style scoped>\n",
              "    .dataframe tbody tr th:only-of-type {\n",
              "        vertical-align: middle;\n",
              "    }\n",
              "\n",
              "    .dataframe tbody tr th {\n",
              "        vertical-align: top;\n",
              "    }\n",
              "\n",
              "    .dataframe thead th {\n",
              "        text-align: right;\n",
              "    }\n",
              "</style>\n",
              "<table border=\"1\" class=\"dataframe\">\n",
              "  <thead>\n",
              "    <tr style=\"text-align: right;\">\n",
              "      <th></th>\n",
              "      <th>emg_1</th>\n",
              "      <th>emg_2</th>\n",
              "      <th>emg_3</th>\n",
              "      <th>emg_4</th>\n",
              "      <th>emg_5</th>\n",
              "      <th>emg_6</th>\n",
              "      <th>pot_1</th>\n",
              "      <th>pot_2</th>\n",
              "      <th>pot_3</th>\n",
              "      <th>emg_1_new</th>\n",
              "      <th>emg_6_new</th>\n",
              "      <th>grad</th>\n",
              "    </tr>\n",
              "  </thead>\n",
              "  <tbody>\n",
              "    <tr>\n",
              "      <th>0</th>\n",
              "      <td>-3.333027</td>\n",
              "      <td>-0.290417</td>\n",
              "      <td>-0.290417</td>\n",
              "      <td>-0.290417</td>\n",
              "      <td>-0.290417</td>\n",
              "      <td>-0.295146</td>\n",
              "      <td>-5.672133</td>\n",
              "      <td>0.674031</td>\n",
              "      <td>-20.165807</td>\n",
              "      <td>-0.599779</td>\n",
              "      <td>-0.029890</td>\n",
              "      <td>1</td>\n",
              "    </tr>\n",
              "    <tr>\n",
              "      <th>1</th>\n",
              "      <td>-0.290355</td>\n",
              "      <td>-0.290417</td>\n",
              "      <td>-0.290417</td>\n",
              "      <td>-0.290417</td>\n",
              "      <td>-0.290417</td>\n",
              "      <td>-0.295146</td>\n",
              "      <td>-5.598286</td>\n",
              "      <td>0.505117</td>\n",
              "      <td>-17.443197</td>\n",
              "      <td>-0.581732</td>\n",
              "      <td>-0.070058</td>\n",
              "      <td>1</td>\n",
              "    </tr>\n",
              "    <tr>\n",
              "      <th>2</th>\n",
              "      <td>-0.290355</td>\n",
              "      <td>-0.290417</td>\n",
              "      <td>-0.290417</td>\n",
              "      <td>-0.290417</td>\n",
              "      <td>-0.290417</td>\n",
              "      <td>-0.295146</td>\n",
              "      <td>-5.524994</td>\n",
              "      <td>0.336202</td>\n",
              "      <td>-15.004191</td>\n",
              "      <td>-0.561629</td>\n",
              "      <td>-0.109813</td>\n",
              "      <td>1</td>\n",
              "    </tr>\n",
              "    <tr>\n",
              "      <th>3</th>\n",
              "      <td>0.144798</td>\n",
              "      <td>0.144767</td>\n",
              "      <td>0.144767</td>\n",
              "      <td>0.144767</td>\n",
              "      <td>0.144767</td>\n",
              "      <td>-0.295146</td>\n",
              "      <td>-5.452256</td>\n",
              "      <td>0.448812</td>\n",
              "      <td>-12.792070</td>\n",
              "      <td>-0.539558</td>\n",
              "      <td>-0.149012</td>\n",
              "      <td>1</td>\n",
              "    </tr>\n",
              "    <tr>\n",
              "      <th>4</th>\n",
              "      <td>0.144798</td>\n",
              "      <td>0.144767</td>\n",
              "      <td>0.144767</td>\n",
              "      <td>0.144767</td>\n",
              "      <td>0.144767</td>\n",
              "      <td>-0.295146</td>\n",
              "      <td>-5.380073</td>\n",
              "      <td>0.279898</td>\n",
              "      <td>-10.806833</td>\n",
              "      <td>-0.515616</td>\n",
              "      <td>-0.187520</td>\n",
              "      <td>1</td>\n",
              "    </tr>\n",
              "    <tr>\n",
              "      <th>...</th>\n",
              "      <td>...</td>\n",
              "      <td>...</td>\n",
              "      <td>...</td>\n",
              "      <td>...</td>\n",
              "      <td>...</td>\n",
              "      <td>...</td>\n",
              "      <td>...</td>\n",
              "      <td>...</td>\n",
              "      <td>...</td>\n",
              "      <td>...</td>\n",
              "      <td>...</td>\n",
              "      <td>...</td>\n",
              "    </tr>\n",
              "    <tr>\n",
              "      <th>154746</th>\n",
              "      <td>-0.290355</td>\n",
              "      <td>-0.290417</td>\n",
              "      <td>-0.290417</td>\n",
              "      <td>-0.290417</td>\n",
              "      <td>-0.290417</td>\n",
              "      <td>0.440738</td>\n",
              "      <td>0.485050</td>\n",
              "      <td>1.462297</td>\n",
              "      <td>0.991146</td>\n",
              "      <td>-0.109193</td>\n",
              "      <td>0.109317</td>\n",
              "      <td>0</td>\n",
              "    </tr>\n",
              "    <tr>\n",
              "      <th>154747</th>\n",
              "      <td>0.144798</td>\n",
              "      <td>0.144767</td>\n",
              "      <td>0.144767</td>\n",
              "      <td>0.144767</td>\n",
              "      <td>0.144767</td>\n",
              "      <td>0.440738</td>\n",
              "      <td>0.484969</td>\n",
              "      <td>1.518602</td>\n",
              "      <td>0.991146</td>\n",
              "      <td>-0.100555</td>\n",
              "      <td>0.088617</td>\n",
              "      <td>0</td>\n",
              "    </tr>\n",
              "    <tr>\n",
              "      <th>154748</th>\n",
              "      <td>0.144798</td>\n",
              "      <td>0.144767</td>\n",
              "      <td>0.144767</td>\n",
              "      <td>0.144767</td>\n",
              "      <td>0.144767</td>\n",
              "      <td>0.440738</td>\n",
              "      <td>0.484889</td>\n",
              "      <td>1.631211</td>\n",
              "      <td>0.991146</td>\n",
              "      <td>-0.091503</td>\n",
              "      <td>0.066898</td>\n",
              "      <td>0</td>\n",
              "    </tr>\n",
              "    <tr>\n",
              "      <th>154749</th>\n",
              "      <td>0.579951</td>\n",
              "      <td>0.579950</td>\n",
              "      <td>0.579950</td>\n",
              "      <td>0.579950</td>\n",
              "      <td>0.579950</td>\n",
              "      <td>0.440738</td>\n",
              "      <td>0.484810</td>\n",
              "      <td>1.462297</td>\n",
              "      <td>0.991146</td>\n",
              "      <td>-0.082096</td>\n",
              "      <td>0.044212</td>\n",
              "      <td>0</td>\n",
              "    </tr>\n",
              "    <tr>\n",
              "      <th>154750</th>\n",
              "      <td>0.144798</td>\n",
              "      <td>0.144767</td>\n",
              "      <td>0.144767</td>\n",
              "      <td>0.144767</td>\n",
              "      <td>0.144767</td>\n",
              "      <td>0.440738</td>\n",
              "      <td>0.484731</td>\n",
              "      <td>1.462297</td>\n",
              "      <td>0.991146</td>\n",
              "      <td>-0.072382</td>\n",
              "      <td>0.020588</td>\n",
              "      <td>0</td>\n",
              "    </tr>\n",
              "  </tbody>\n",
              "</table>\n",
              "<p>154751 rows × 12 columns</p>\n",
              "</div>\n",
              "      <button class=\"colab-df-convert\" onclick=\"convertToInteractive('df-8946b9a0-1df2-4787-925a-cacfe84413fe')\"\n",
              "              title=\"Convert this dataframe to an interactive table.\"\n",
              "              style=\"display:none;\">\n",
              "        \n",
              "  <svg xmlns=\"http://www.w3.org/2000/svg\" height=\"24px\"viewBox=\"0 0 24 24\"\n",
              "       width=\"24px\">\n",
              "    <path d=\"M0 0h24v24H0V0z\" fill=\"none\"/>\n",
              "    <path d=\"M18.56 5.44l.94 2.06.94-2.06 2.06-.94-2.06-.94-.94-2.06-.94 2.06-2.06.94zm-11 1L8.5 8.5l.94-2.06 2.06-.94-2.06-.94L8.5 2.5l-.94 2.06-2.06.94zm10 10l.94 2.06.94-2.06 2.06-.94-2.06-.94-.94-2.06-.94 2.06-2.06.94z\"/><path d=\"M17.41 7.96l-1.37-1.37c-.4-.4-.92-.59-1.43-.59-.52 0-1.04.2-1.43.59L10.3 9.45l-7.72 7.72c-.78.78-.78 2.05 0 2.83L4 21.41c.39.39.9.59 1.41.59.51 0 1.02-.2 1.41-.59l7.78-7.78 2.81-2.81c.8-.78.8-2.07 0-2.86zM5.41 20L4 18.59l7.72-7.72 1.47 1.35L5.41 20z\"/>\n",
              "  </svg>\n",
              "      </button>\n",
              "      \n",
              "  <style>\n",
              "    .colab-df-container {\n",
              "      display:flex;\n",
              "      flex-wrap:wrap;\n",
              "      gap: 12px;\n",
              "    }\n",
              "\n",
              "    .colab-df-convert {\n",
              "      background-color: #E8F0FE;\n",
              "      border: none;\n",
              "      border-radius: 50%;\n",
              "      cursor: pointer;\n",
              "      display: none;\n",
              "      fill: #1967D2;\n",
              "      height: 32px;\n",
              "      padding: 0 0 0 0;\n",
              "      width: 32px;\n",
              "    }\n",
              "\n",
              "    .colab-df-convert:hover {\n",
              "      background-color: #E2EBFA;\n",
              "      box-shadow: 0px 1px 2px rgba(60, 64, 67, 0.3), 0px 1px 3px 1px rgba(60, 64, 67, 0.15);\n",
              "      fill: #174EA6;\n",
              "    }\n",
              "\n",
              "    [theme=dark] .colab-df-convert {\n",
              "      background-color: #3B4455;\n",
              "      fill: #D2E3FC;\n",
              "    }\n",
              "\n",
              "    [theme=dark] .colab-df-convert:hover {\n",
              "      background-color: #434B5C;\n",
              "      box-shadow: 0px 1px 3px 1px rgba(0, 0, 0, 0.15);\n",
              "      filter: drop-shadow(0px 1px 2px rgba(0, 0, 0, 0.3));\n",
              "      fill: #FFFFFF;\n",
              "    }\n",
              "  </style>\n",
              "\n",
              "      <script>\n",
              "        const buttonEl =\n",
              "          document.querySelector('#df-8946b9a0-1df2-4787-925a-cacfe84413fe button.colab-df-convert');\n",
              "        buttonEl.style.display =\n",
              "          google.colab.kernel.accessAllowed ? 'block' : 'none';\n",
              "\n",
              "        async function convertToInteractive(key) {\n",
              "          const element = document.querySelector('#df-8946b9a0-1df2-4787-925a-cacfe84413fe');\n",
              "          const dataTable =\n",
              "            await google.colab.kernel.invokeFunction('convertToInteractive',\n",
              "                                                     [key], {});\n",
              "          if (!dataTable) return;\n",
              "\n",
              "          const docLinkHtml = 'Like what you see? Visit the ' +\n",
              "            '<a target=\"_blank\" href=https://colab.research.google.com/notebooks/data_table.ipynb>data table notebook</a>'\n",
              "            + ' to learn more about interactive tables.';\n",
              "          element.innerHTML = '';\n",
              "          dataTable['output_type'] = 'display_data';\n",
              "          await google.colab.output.renderOutput(dataTable, element);\n",
              "          const docLink = document.createElement('div');\n",
              "          docLink.innerHTML = docLinkHtml;\n",
              "          element.appendChild(docLink);\n",
              "        }\n",
              "      </script>\n",
              "    </div>\n",
              "  </div>\n",
              "  "
            ]
          },
          "metadata": {},
          "execution_count": 26
        }
      ]
    },
    {
      "cell_type": "code",
      "source": [
        "X = data_[['emg_1_new', 'emg_6_new']].values\n",
        "y = data_['grad'].values"
      ],
      "metadata": {
        "id": "zdWCZT3FVP88"
      },
      "execution_count": 27,
      "outputs": []
    },
    {
      "cell_type": "code",
      "source": [
        "X"
      ],
      "metadata": {
        "colab": {
          "base_uri": "https://localhost:8080/"
        },
        "id": "XWxeSeJbzylR",
        "outputId": "636e0738-bf42-4d4d-fa1e-66b1329d1a8d"
      },
      "execution_count": 28,
      "outputs": [
        {
          "output_type": "execute_result",
          "data": {
            "text/plain": [
              "array([[-0.5997794 , -0.02988958],\n",
              "       [-0.58173179, -0.07005841],\n",
              "       [-0.56162949, -0.10981266],\n",
              "       ...,\n",
              "       [-0.09150264,  0.06689796],\n",
              "       [-0.08209557,  0.04421242],\n",
              "       [-0.07238233,  0.02058821]])"
            ]
          },
          "metadata": {},
          "execution_count": 28
        }
      ]
    },
    {
      "cell_type": "markdown",
      "source": [
        "Разбиение набора данных на train и test:"
      ],
      "metadata": {
        "id": "Iif6_QS_fqLy"
      }
    },
    {
      "cell_type": "code",
      "source": [
        "X_train, X_test, y_train, y_test = train_test_split(X, y, test_size=0.3, random_state=69, shuffle=False)"
      ],
      "metadata": {
        "id": "3HzYetpEXC_Y"
      },
      "execution_count": 29,
      "outputs": []
    },
    {
      "cell_type": "markdown",
      "source": [
        "Перевод данных в тензоры:"
      ],
      "metadata": {
        "id": "bCE65NUhfwHc"
      }
    },
    {
      "cell_type": "code",
      "source": [
        "X_train, X_test = torch.Tensor(X_train), torch.Tensor(X_test)\n",
        "y_train, y_test = torch.LongTensor(y_train), torch.LongTensor(y_test)"
      ],
      "metadata": {
        "id": "O0EgADjCXX6S"
      },
      "execution_count": 30,
      "outputs": []
    },
    {
      "cell_type": "code",
      "source": [
        "train_dataset = TensorDataset(X_train, y_train)\n",
        "test_dataset = TensorDataset(X_test, y_test)"
      ],
      "metadata": {
        "id": "QE8ZB4SMWo63"
      },
      "execution_count": 31,
      "outputs": []
    },
    {
      "cell_type": "code",
      "source": [
        "epochs = 10\n",
        "batch_size = 50\n",
        "lr = 0.001\n",
        "num_features = 2\n",
        "num_classes = 3"
      ],
      "metadata": {
        "id": "Xt126a0EbS1u"
      },
      "execution_count": 32,
      "outputs": []
    },
    {
      "cell_type": "code",
      "source": [
        "train_loader = DataLoader(train_dataset, batch_size=batch_size, shuffle=False)\n",
        "test_loader = DataLoader(test_dataset, batch_size=batch_size, shuffle=False)"
      ],
      "metadata": {
        "id": "2r7e9THfWpf5"
      },
      "execution_count": 33,
      "outputs": []
    },
    {
      "cell_type": "markdown",
      "source": [
        "# Обучение сверточной нейросети"
      ],
      "metadata": {
        "id": "tBVKYtTKgF5P"
      }
    },
    {
      "cell_type": "code",
      "source": [
        "class CNN(nn.Module):\n",
        "    def __init__(self):\n",
        "        super().__init__()\n",
        "        self.conv1 = nn.Conv1d(1, 6, 1)\n",
        "        self.pool = nn.MaxPool1d(1, 1)\n",
        "        self.conv2 = nn.Conv1d(6, 16, 1)\n",
        "        self.fc1 = nn.Linear(32, 128)\n",
        "        self.fc2 = nn.Linear(128, 64)\n",
        "        self.fc3 = nn.Linear(64, 32)\n",
        "        self.fc4 = nn.Linear(32, 3)\n",
        "\n",
        "    def forward(self, x):\n",
        "        # print(x.shape)\n",
        "        x = self.conv1(x)\n",
        "        # print(x.shape)\n",
        "        x = self.pool(F.relu(x))\n",
        "        x = self.pool(F.relu(self.conv2(x)))\n",
        "        # x = torch.flatten(x, 1) # flatten all dimensions except batch\n",
        "        x = x.view(-1, 32)\n",
        "        # print(x.shape)\n",
        "        x = F.relu(self.fc1(x))\n",
        "        x = F.relu(self.fc2(x))\n",
        "        x = F.relu(self.fc3(x))\n",
        "        x = self.fc4(x)\n",
        "        return x"
      ],
      "metadata": {
        "id": "idTrl5j7oql3"
      },
      "execution_count": null,
      "outputs": []
    },
    {
      "cell_type": "code",
      "source": [
        "model = CNN()\n",
        "# model.to(device)\n",
        "\n",
        "criterion = nn.CrossEntropyLoss()\n",
        "optimizer = torch.optim.Adam(model.parameters(), lr=lr)\n",
        "print(model)"
      ],
      "metadata": {
        "colab": {
          "base_uri": "https://localhost:8080/"
        },
        "id": "KYOaaYld6O5x",
        "outputId": "f90a10ae-7d86-493f-822f-124211795472"
      },
      "execution_count": null,
      "outputs": [
        {
          "output_type": "stream",
          "name": "stdout",
          "text": [
            "CNN(\n",
            "  (conv1): Conv1d(1, 6, kernel_size=(1,), stride=(1,))\n",
            "  (pool): MaxPool1d(kernel_size=1, stride=1, padding=0, dilation=1, ceil_mode=False)\n",
            "  (conv2): Conv1d(6, 16, kernel_size=(1,), stride=(1,))\n",
            "  (fc1): Linear(in_features=32, out_features=128, bias=True)\n",
            "  (fc2): Linear(in_features=128, out_features=64, bias=True)\n",
            "  (fc3): Linear(in_features=64, out_features=32, bias=True)\n",
            "  (fc4): Linear(in_features=32, out_features=3, bias=True)\n",
            ")\n"
          ]
        }
      ]
    },
    {
      "cell_type": "code",
      "source": [
        "for x, y in train_loader:\n",
        "    print(torch.unsqueeze(x, 1).shape)\n",
        "    break"
      ],
      "metadata": {
        "colab": {
          "base_uri": "https://localhost:8080/"
        },
        "id": "NLIvY86AHElD",
        "outputId": "a3ddc39c-c534-409e-e0e2-e38e060677d4"
      },
      "execution_count": null,
      "outputs": [
        {
          "output_type": "stream",
          "name": "stdout",
          "text": [
            "torch.Size([50, 1, 2])\n"
          ]
        }
      ]
    },
    {
      "cell_type": "code",
      "source": [
        "for epoch in range(epochs):  # loop over the dataset multiple times\n",
        "\n",
        "    running_loss = 0.0\n",
        "    for i, data in enumerate(train_loader, 0):\n",
        "        # get the inputs; data is a list of [inputs, labels]\n",
        "        inputs, labels = data\n",
        "        # zero the parameter gradients\n",
        "        optimizer.zero_grad()\n",
        "\n",
        "        # forward + backward + optimize\n",
        "        outputs = model(torch.unsqueeze(inputs, 1))\n",
        "        loss = criterion(outputs, labels)\n",
        "        loss.backward()\n",
        "        optimizer.step()\n",
        "\n",
        "        # print statistics\n",
        "        running_loss += loss.item()\n",
        "        if i % 2000 == 1999:    # print every 2000 mini-batches\n",
        "            print(f'[{epoch + 1}, {i + 1:5d}] loss: {running_loss / 2000:.3f}')\n",
        "            running_loss = 0.0\n",
        "\n",
        "print('Finished Training')"
      ],
      "metadata": {
        "colab": {
          "base_uri": "https://localhost:8080/"
        },
        "id": "jwAB4lh555-d",
        "outputId": "5889f18b-a411-4839-be24-56d59eabd09b"
      },
      "execution_count": null,
      "outputs": [
        {
          "output_type": "stream",
          "name": "stdout",
          "text": [
            "[1,  2000] loss: 1.029\n",
            "[2,  2000] loss: 1.017\n",
            "[3,  2000] loss: 1.003\n",
            "[4,  2000] loss: 1.005\n",
            "[5,  2000] loss: 1.012\n",
            "[6,  2000] loss: 1.014\n",
            "[7,  2000] loss: 1.012\n",
            "[8,  2000] loss: 1.013\n",
            "[9,  2000] loss: 1.009\n",
            "[10,  2000] loss: 1.013\n",
            "Finished Training\n"
          ]
        }
      ]
    },
    {
      "cell_type": "code",
      "source": [
        "correct = 0\n",
        "total = 0\n",
        "preds = []\n",
        "# since we're not training, we don't need to calculate the gradients for our outputs\n",
        "with torch.no_grad():\n",
        "    for data in test_loader:\n",
        "        inputs, labels = data\n",
        "        # calculate outputs by running images through the network\n",
        "        outputs = model(torch.unsqueeze(inputs, 1))\n",
        "        # the class with the highest energy is what we choose as prediction\n",
        "        _, predicted = torch.max(outputs.data, 1)\n",
        "        preds.append(predicted)\n",
        "        total += labels.size(0)\n",
        "        correct += (predicted == labels).sum().item()\n",
        "\n",
        "# print(f'Accuracy of the network on the 10000 test images: {100 * correct // total} %')"
      ],
      "metadata": {
        "id": "Q20_0UxN56Fv"
      },
      "execution_count": null,
      "outputs": []
    },
    {
      "cell_type": "code",
      "source": [
        "flat_list = [item for sublist in preds for item in sublist]"
      ],
      "metadata": {
        "id": "Nx0YzA_l56KX"
      },
      "execution_count": null,
      "outputs": []
    },
    {
      "cell_type": "code",
      "source": [
        "flat_list = np.array(flat_list)\n",
        "flat_list[flat_list == 2] = -1"
      ],
      "metadata": {
        "id": "hHS8spT456OD"
      },
      "execution_count": null,
      "outputs": []
    },
    {
      "cell_type": "markdown",
      "source": [
        "Предсказание:"
      ],
      "metadata": {
        "id": "lb5t7guYhNbb"
      }
    },
    {
      "cell_type": "code",
      "source": [
        "plt.plot(flat_list[3000:4000])"
      ],
      "metadata": {
        "colab": {
          "base_uri": "https://localhost:8080/",
          "height": 282
        },
        "id": "VZOulOejK6SZ",
        "outputId": "c3c2d0ca-97e9-4fef-9ba0-7d88e981fce0"
      },
      "execution_count": null,
      "outputs": [
        {
          "output_type": "execute_result",
          "data": {
            "text/plain": [
              "[<matplotlib.lines.Line2D at 0x7fea855dcb50>]"
            ]
          },
          "metadata": {},
          "execution_count": 275
        },
        {
          "output_type": "display_data",
          "data": {
            "text/plain": [
              "<Figure size 432x288 with 1 Axes>"
            ],
            "image/png": "[encoded data removed]"
          },
          "metadata": {
            "needs_background": "light"
          }
        }
      ]
    },
    {
      "cell_type": "code",
      "source": [
        "y_test = np.array(y_test)\n",
        "y_test[y_test == 2] = -1"
      ],
      "metadata": {
        "id": "AwzRoacz56Q4"
      },
      "execution_count": null,
      "outputs": []
    },
    {
      "cell_type": "markdown",
      "source": [
        "Тестовые данные:"
      ],
      "metadata": {
        "id": "NafAtnyGhQnU"
      }
    },
    {
      "cell_type": "code",
      "source": [
        "plt.plot(y_test[3000:4000])"
      ],
      "metadata": {
        "colab": {
          "base_uri": "https://localhost:8080/",
          "height": 282
        },
        "id": "dTDpxle9LJKc",
        "outputId": "15f4f202-0996-4e0d-c3a6-6ac501d975d7"
      },
      "execution_count": null,
      "outputs": [
        {
          "output_type": "execute_result",
          "data": {
            "text/plain": [
              "[<matplotlib.lines.Line2D at 0x7fea855aaaf0>]"
            ]
          },
          "metadata": {},
          "execution_count": 276
        },
        {
          "output_type": "display_data",
          "data": {
            "text/plain": [
              "<Figure size 432x288 with 1 Axes>"
            ],
            "image/png": "[encoded data removed]"
          },
          "metadata": {
            "needs_background": "light"
          }
        }
      ]
    },
    {
      "cell_type": "markdown",
      "source": [
        "# Обучение полносвязной нейросети"
      ],
      "metadata": {
        "id": "sM6vEs1EgM__"
      }
    },
    {
      "cell_type": "code",
      "source": [
        "def multi_acc(y_pred, y_test):\n",
        "    y_pred_softmax = torch.log_softmax(y_pred, dim = 1)\n",
        "    _, y_pred_tags = torch.max(y_pred_softmax, dim = 1)    \n",
        "    \n",
        "    correct_pred = (y_pred_tags == y_test).float()\n",
        "    acc = correct_pred.sum() / len(correct_pred)\n",
        "    \n",
        "    acc = torch.round(acc * 100)\n",
        "    \n",
        "    return acc"
      ],
      "metadata": {
        "id": "8JskCHrkYMDj"
      },
      "execution_count": null,
      "outputs": []
    },
    {
      "cell_type": "code",
      "source": [
        "class MulticlassClassification(nn.Module):\n",
        "    def __init__(self, num_feature, num_class):\n",
        "        super(MulticlassClassification, self).__init__()\n",
        "        \n",
        "        self.layer_1 = nn.Linear(num_feature, 512)\n",
        "        self.layer_2 = nn.Linear(512, 128)\n",
        "        self.layer_3 = nn.Linear(128, 64)\n",
        "        self.layer_out = nn.Linear(64, num_class) \n",
        "        \n",
        "        self.relu = nn.ReLU()\n",
        "        self.dropout = nn.Dropout(p=0.2)\n",
        "        self.batchnorm1 = nn.BatchNorm1d(512)\n",
        "        self.batchnorm2 = nn.BatchNorm1d(128)\n",
        "        self.batchnorm3 = nn.BatchNorm1d(64)\n",
        "        \n",
        "    def forward(self, x):\n",
        "        x = self.layer_1(x)\n",
        "        x = self.batchnorm1(x)\n",
        "        x = self.relu(x)\n",
        "        \n",
        "        x = self.layer_2(x)\n",
        "        x = self.batchnorm2(x)\n",
        "        x = self.relu(x)\n",
        "        x = self.dropout(x)\n",
        "        \n",
        "        x = self.layer_3(x)\n",
        "        x = self.batchnorm3(x)\n",
        "        x = self.relu(x)\n",
        "        x = self.dropout(x)\n",
        "        \n",
        "        x = self.layer_out(x)\n",
        "        # print(x.shape)\n",
        "        \n",
        "        return x"
      ],
      "metadata": {
        "id": "WDiIfC42bL1l"
      },
      "execution_count": null,
      "outputs": []
    },
    {
      "cell_type": "code",
      "source": [
        "device = torch.device(\"cuda:0\" if torch.cuda.is_available() else \"cpu\")\n",
        "print(device)"
      ],
      "metadata": {
        "colab": {
          "base_uri": "https://localhost:8080/"
        },
        "id": "IQhPgmyIbsBN",
        "outputId": "0e7fd0dc-90ec-4753-9a29-865b03bdd0f7"
      },
      "execution_count": null,
      "outputs": [
        {
          "output_type": "stream",
          "name": "stdout",
          "text": [
            "cpu\n"
          ]
        }
      ]
    },
    {
      "cell_type": "code",
      "source": [
        "model = MulticlassClassification(num_feature = num_features, num_class=num_classes)\n",
        "model.to(device)\n",
        "\n",
        "criterion = nn.CrossEntropyLoss()\n",
        "optimizer = torch.optim.Adam(model.parameters(), lr=lr)\n",
        "print(model)"
      ],
      "metadata": {
        "colab": {
          "base_uri": "https://localhost:8080/"
        },
        "id": "4HRIUtXAbzK1",
        "outputId": "8efe0a32-e339-445e-a8ac-f3d0826a8d8e"
      },
      "execution_count": null,
      "outputs": [
        {
          "output_type": "stream",
          "name": "stdout",
          "text": [
            "CNN(\n",
            "  (conv1): Conv2d(3, 6, kernel_size=(5, 5), stride=(1, 1))\n",
            "  (pool): MaxPool2d(kernel_size=2, stride=2, padding=0, dilation=1, ceil_mode=False)\n",
            "  (conv2): Conv2d(6, 16, kernel_size=(5, 5), stride=(1, 1))\n",
            "  (fc1): Linear(in_features=400, out_features=120, bias=True)\n",
            "  (fc2): Linear(in_features=120, out_features=64, bias=True)\n",
            "  (fc3): Linear(in_features=64, out_features=32, bias=True)\n",
            "  (fc4): Linear(in_features=32, out_features=3, bias=True)\n",
            ")\n"
          ]
        }
      ]
    },
    {
      "cell_type": "code",
      "source": [
        "accuracy_stats = {\n",
        "    'train': [],\n",
        "    \"val\": []\n",
        "}\n",
        "loss_stats = {\n",
        "    'train': [],\n",
        "    \"val\": []\n",
        "}"
      ],
      "metadata": {
        "id": "M9Tn90iNcH1D"
      },
      "execution_count": null,
      "outputs": []
    },
    {
      "cell_type": "code",
      "source": [
        "print(\"Begin training.\")\n",
        "for e in tqdm.notebook.tqdm(range(1, epochs+1)):\n",
        "    \n",
        "    # TRAINING\n",
        "    train_epoch_loss = 0\n",
        "    train_epoch_acc = 0\n",
        "    model.train()\n",
        "    for X_train_batch, y_train_batch in train_loader:\n",
        "        X_train_batch, y_train_batch = X_train_batch.to(device), y_train_batch.to(device)\n",
        "        optimizer.zero_grad()\n",
        "        y_train_pred = model(X_train_batch[:, 0:2])\n",
        "        train_loss = criterion(y_train_pred, y_train_batch)\n",
        "        train_acc = multi_acc(y_train_pred, y_train_batch)\n",
        "        \n",
        "        train_loss.backward()\n",
        "        optimizer.step()\n",
        "        \n",
        "        train_epoch_loss += train_loss.item()\n",
        "        train_epoch_acc += train_acc.item()\n",
        "        \n",
        "    with torch.no_grad():\n",
        "        \n",
        "        val_epoch_loss = 0\n",
        "        val_epoch_acc = 0\n",
        "        \n",
        "        model.eval()\n",
        "        for X_val_batch, y_val_batch in val_loader:\n",
        "            X_val_batch, y_val_batch = X_val_batch.to(device), y_val_batch.to(device)\n",
        "            \n",
        "            y_val_pred = model(X_val_batch[:, 0:2])\n",
        "                        \n",
        "            val_loss = criterion(y_val_pred, y_val_batch)\n",
        "            val_acc = multi_acc(y_val_pred, y_val_batch)\n",
        "            \n",
        "            val_epoch_loss += val_loss.item()\n",
        "            val_epoch_acc += val_acc.item()\n",
        "    loss_stats['train'].append(train_epoch_loss/len(train_loader))\n",
        "    loss_stats['val'].append(val_epoch_loss/len(test_loader))\n",
        "    accuracy_stats['train'].append(train_epoch_acc/len(train_loader))\n",
        "    accuracy_stats['val'].append(val_epoch_acc/len(test_loader))\n",
        "                              \n",
        "    \n",
        "    print(f'Epoch {e+0:03}: | Train Loss: {train_epoch_loss/len(train_loader):.5f} | Val Loss: {val_epoch_loss/len(test_loader):.5f} | Train Acc: {train_epoch_acc/len(train_loader):.3f}| Val Acc: {val_epoch_acc/len(test_loader):.3f}')"
      ],
      "metadata": {
        "colab": {
          "base_uri": "https://localhost:8080/",
          "height": 240,
          "referenced_widgets": [
            "6ceee88a4d9b4c88bfc37938bb8d8cfa",
            "b21f613ad18a4617bb1387cfc9cd8e12",
            "e425faaf81594c82acccb2bf309c7cd0",
            "aa8795d021e847c98df96e54e99839e2",
            "539a8367061b448a91241b9b910af601",
            "58d513482ec24c4e989563135a437521",
            "d4b1f75b4e7145a582f4c8412563030d",
            "c5aa8b3c6d984e2e8bce24485ae40b8d",
            "b108c3afb62f4383870efdf94acd87f6",
            "463c4025ad4c4a6881f3ae48e0c12102",
            "685805affee548f4afaa66ae86c7cca0"
          ]
        },
        "id": "kmKo3UfNcNVS",
        "outputId": "8049fa83-67a3-408e-950a-cc7eed682095"
      },
      "execution_count": null,
      "outputs": [
        {
          "output_type": "stream",
          "name": "stdout",
          "text": [
            "Begin training.\n"
          ]
        },
        {
          "output_type": "display_data",
          "data": {
            "text/plain": [
              "  0%|          | 0/10 [00:00<?, ?it/s]"
            ],
            "application/vnd.jupyter.widget-view+json": {
              "version_major": 2,
              "version_minor": 0,
              "model_id": "6ceee88a4d9b4c88bfc37938bb8d8cfa"
            }
          },
          "metadata": {}
        },
        {
          "output_type": "stream",
          "name": "stdout",
          "text": [
            "Epoch 001: | Train Loss: 1.03344 | Val Loss: 0.53749 | Train Acc: 42.280| Val Acc: 15.577\n",
            "Epoch 002: | Train Loss: 1.02707 | Val Loss: 0.54423 | Train Acc: 42.497| Val Acc: 14.547\n",
            "Epoch 003: | Train Loss: 1.03027 | Val Loss: 0.52767 | Train Acc: 42.047| Val Acc: 14.729\n",
            "Epoch 004: | Train Loss: 1.03264 | Val Loss: 0.50706 | Train Acc: 41.801| Val Acc: 14.519\n",
            "Epoch 005: | Train Loss: 1.03299 | Val Loss: 0.50086 | Train Acc: 41.974| Val Acc: 14.661\n",
            "Epoch 006: | Train Loss: 1.03271 | Val Loss: 0.52688 | Train Acc: 42.059| Val Acc: 14.794\n",
            "Epoch 007: | Train Loss: 1.03178 | Val Loss: 0.53378 | Train Acc: 42.231| Val Acc: 14.535\n",
            "Epoch 008: | Train Loss: 1.03108 | Val Loss: 0.50647 | Train Acc: 42.348| Val Acc: 14.748\n",
            "Epoch 009: | Train Loss: 1.03057 | Val Loss: 0.48730 | Train Acc: 42.930| Val Acc: 14.571\n",
            "Epoch 010: | Train Loss: 1.03126 | Val Loss: 0.52014 | Train Acc: 43.006| Val Acc: 15.042\n"
          ]
        }
      ]
    },
    {
      "cell_type": "code",
      "source": [
        "y_pred_list = []\n",
        "traj = []\n",
        "with torch.no_grad():\n",
        "    model.eval()\n",
        "    for X_batch, _ in test_loader:\n",
        "        X_batch = X_batch.to(device)\n",
        "        y_test_pred = model(X_batch[:, 0:2])\n",
        "        _, y_pred_tags = torch.max(y_test_pred, dim = 1)\n",
        "        y_pred_list.append(y_pred_tags.cpu().numpy())\n",
        "        traj.append(X_batch[:, 2].tolist())\n",
        "y_pred_list = [a.squeeze().tolist() for a in y_pred_list]"
      ],
      "metadata": {
        "id": "ZcRuyKHkMguK"
      },
      "execution_count": null,
      "outputs": []
    },
    {
      "cell_type": "code",
      "source": [
        "traj = [item for sublist in traj for item in sublist]"
      ],
      "metadata": {
        "id": "N2aa9ZPk0pl2"
      },
      "execution_count": null,
      "outputs": []
    },
    {
      "cell_type": "code",
      "source": [
        "from sklearn.metrics import confusion_matrix, classification_report"
      ],
      "metadata": {
        "id": "FjQpkX1vFPL7"
      },
      "execution_count": null,
      "outputs": []
    },
    {
      "cell_type": "code",
      "source": [
        "flat_list = [item for sublist in y_pred_list[:-1] for item in sublist]"
      ],
      "metadata": {
        "id": "0cmhtADtGkjS"
      },
      "execution_count": null,
      "outputs": []
    },
    {
      "cell_type": "code",
      "source": [
        "flat_list.append(y_pred_list[-1])"
      ],
      "metadata": {
        "id": "-gs31FFuHaxB"
      },
      "execution_count": null,
      "outputs": []
    },
    {
      "cell_type": "code",
      "source": [
        "len(flat_list)"
      ],
      "metadata": {
        "colab": {
          "base_uri": "https://localhost:8080/"
        },
        "id": "dHoKwIiiGc7s",
        "outputId": "1416e2e2-db22-4497-c840-21757d84d43e"
      },
      "execution_count": null,
      "outputs": [
        {
          "output_type": "execute_result",
          "data": {
            "text/plain": [
              "30951"
            ]
          },
          "metadata": {},
          "execution_count": 42
        }
      ]
    },
    {
      "cell_type": "code",
      "source": [
        "# y_test.tolist()"
      ],
      "metadata": {
        "id": "1CUuCvOlIAm0"
      },
      "execution_count": null,
      "outputs": []
    },
    {
      "cell_type": "code",
      "source": [
        "flat_list = np.array(flat_list)\n",
        "flat_list[flat_list == 2] = -1"
      ],
      "metadata": {
        "id": "CZmQ7lYHwUXq"
      },
      "execution_count": null,
      "outputs": []
    },
    {
      "cell_type": "code",
      "source": [
        "y_test = np.array(y_test)\n",
        "y_test[y_test == 2] = -1"
      ],
      "metadata": {
        "id": "1EAJlW7dxAq1"
      },
      "execution_count": null,
      "outputs": []
    },
    {
      "cell_type": "code",
      "source": [
        "confusion_matrix(y_test.tolist(), flat_list)"
      ],
      "metadata": {
        "colab": {
          "base_uri": "https://localhost:8080/"
        },
        "id": "xbUJGFK5NKLV",
        "outputId": "eada057a-5080-4fcf-cbeb-4b3c2ffb7a9d"
      },
      "execution_count": null,
      "outputs": [
        {
          "output_type": "execute_result",
          "data": {
            "text/plain": [
              "array([[11956,     0,   291],\n",
              "       [ 9087,     0,   190],\n",
              "       [ 9189,     0,   238]])"
            ]
          },
          "metadata": {},
          "execution_count": 65
        }
      ]
    },
    {
      "cell_type": "markdown",
      "source": [
        "Предсказание:"
      ],
      "metadata": {
        "id": "JF7gG2UchWiA"
      }
    },
    {
      "cell_type": "code",
      "source": [
        "plt.plot(flat_list[4000:10000])"
      ],
      "metadata": {
        "colab": {
          "base_uri": "https://localhost:8080/",
          "height": 282
        },
        "id": "o1NLGcc5FBkC",
        "outputId": "8b666454-d15c-433e-d13b-024823f2d5c1"
      },
      "execution_count": null,
      "outputs": [
        {
          "output_type": "execute_result",
          "data": {
            "text/plain": [
              "[<matplotlib.lines.Line2D at 0x7f7701e37bd0>]"
            ]
          },
          "metadata": {},
          "execution_count": 72
        },
        {
          "output_type": "display_data",
          "data": {
            "text/plain": [
              "<Figure size 432x288 with 1 Axes>"
            ],
            "image/png": "[encoded data removed]"
          },
          "metadata": {
            "needs_background": "light"
          }
        }
      ]
    },
    {
      "cell_type": "markdown",
      "source": [
        "Тестовые данные:"
      ],
      "metadata": {
        "id": "Y10RdABqhY3_"
      }
    },
    {
      "cell_type": "code",
      "source": [
        "plt.plot(y_test[4000:10000])"
      ],
      "metadata": {
        "colab": {
          "base_uri": "https://localhost:8080/",
          "height": 282
        },
        "id": "00fH8UyPNi9N",
        "outputId": "cedcae50-80d0-4d86-f089-abd14144fdf1"
      },
      "execution_count": null,
      "outputs": [
        {
          "output_type": "execute_result",
          "data": {
            "text/plain": [
              "[<matplotlib.lines.Line2D at 0x7f7701db5110>]"
            ]
          },
          "metadata": {},
          "execution_count": 73
        },
        {
          "output_type": "display_data",
          "data": {
            "text/plain": [
              "<Figure size 432x288 with 1 Axes>"
            ],
            "image/png": "[encoded data removed]"
          },
          "metadata": {
            "needs_background": "light"
          }
        }
      ]
    },
    {
      "cell_type": "markdown",
      "source": [
        "Сама траектория с потенциометра (добавляли ее в батчи, но не пускали в само обучение):"
      ],
      "metadata": {
        "id": "FOnMEhBNhbCB"
      }
    },
    {
      "cell_type": "code",
      "source": [
        "plt.plot(traj[4000:10000])"
      ],
      "metadata": {
        "colab": {
          "base_uri": "https://localhost:8080/",
          "height": 285
        },
        "id": "55_PeELFvh_u",
        "outputId": "4640a6f8-0dd5-4a7e-d202-14f71c89d9c8"
      },
      "execution_count": null,
      "outputs": [
        {
          "output_type": "execute_result",
          "data": {
            "text/plain": [
              "[<matplotlib.lines.Line2D at 0x7f7701d25450>]"
            ]
          },
          "metadata": {},
          "execution_count": 74
        },
        {
          "output_type": "display_data",
          "data": {
            "text/plain": [
              "<Figure size 432x288 with 1 Axes>"
            ],
            "image/png": "[encoded data removed]"
          },
          "metadata": {
            "needs_background": "light"
          }
        }
      ]
    },
    {
      "cell_type": "code",
      "source": [],
      "metadata": {
        "id": "0KnMy0dozROp"
      },
      "execution_count": null,
      "outputs": []
    }
  ]
}